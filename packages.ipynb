{
 "cells": [
  {
   "cell_type": "code",
   "execution_count": null,
   "metadata": {},
   "outputs": [],
   "source": [
    "!pip install langchain\n",
    "!pip install unstructured # The unstructured library provides open-source components for pre-processing text documents such as PDFs, HTML and Word Documents. \n",
    "!pip install openai\n",
    "!pip install pybind11 # pybind11 is a lightweight header-only library that exposes C++ types in Python\n",
    "!pip install chromadb # the AI-native open-source embedding database\n",
    "!pip install Cython # Cython is an optimising static compiler for both the Python programming language\n",
    "!pip3 install \"git+https://github.com/philferriere/cocoapi.git#egg=pycocotools&subdirectory=PythonAPI\" # COCO is a large image dataset designed for object detection, segmentation, person keypoints detection, stuff segmentation, and caption generation\n",
    "!pip install unstructured[local-inference]\n",
    "!CC=clang CXX=clang++ ARCHFLAGS=\"-arch x86_64\" pip install 'git+https://github.com/facebookresearch/detectron2.git' # Detectron2 is Facebook AI Research's next generation library that provides state-of-the-art detection and segmentation algorithms.\n",
    "!pip install layoutparser[layoutmodels,tesseract] # A Unified Toolkit for Deep Learning Based Document Image Analysis\n",
    "!pip install pytesseract # Python-tesseract is an optical character recognition (OCR) tool for python.\n",
    "!pip install Pillow==9.0.0 # The Python Imaging Library adds image processing capabilities to your Python interpreter. \n",
    "!pip install tiktoken\n",
    "!apt-get install poppler-utils\n",
    "!sudo apt-get install tesseract-ocr\n",
    "!sudo apt-get install tesseract-ocr-math\n",
    "!pip install habanero\n",
    "!pip install PyPDF2\n",
    "!pip install bibtexparser\n",
    "!pip install pymupdf\n",
    "!pip install kor"
   ]
  }
 ],
 "metadata": {
  "language_info": {
   "name": "python"
  },
  "orig_nbformat": 4
 },
 "nbformat": 4,
 "nbformat_minor": 2
}
