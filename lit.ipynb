{
 "cells": [
  {
   "cell_type": "code",
   "execution_count": 1,
   "metadata": {},
   "outputs": [],
   "source": [
    "# %run packages.ipynb"
   ]
  },
  {
   "cell_type": "code",
   "execution_count": 4,
   "metadata": {},
   "outputs": [],
   "source": [
    "from pdf_files import get_fullpath_of_pdf_files"
   ]
  },
  {
   "cell_type": "code",
   "execution_count": 5,
   "metadata": {},
   "outputs": [],
   "source": [
    "from pdf_documents import get_pdf_documents"
   ]
  },
  {
   "cell_type": "code",
   "execution_count": 6,
   "metadata": {},
   "outputs": [],
   "source": [
    "from document_util import get_split_documents"
   ]
  },
  {
   "cell_type": "code",
   "execution_count": 7,
   "metadata": {},
   "outputs": [],
   "source": [
    "from embedding_function import get_embedding_function"
   ]
  },
  {
   "cell_type": "code",
   "execution_count": 8,
   "metadata": {},
   "outputs": [],
   "source": [
    "from chroma_db import create_db, get_similar_docs"
   ]
  },
  {
   "cell_type": "code",
   "execution_count": 9,
   "metadata": {},
   "outputs": [],
   "source": [
    "from chain import get_chain_output"
   ]
  },
  {
   "cell_type": "code",
   "execution_count": 10,
   "metadata": {},
   "outputs": [],
   "source": [
    "from match import run_text_match"
   ]
  },
  {
   "cell_type": "code",
   "execution_count": 11,
   "metadata": {},
   "outputs": [],
   "source": [
    "from pdf_retrieval import save_pdfs_metadata_to_db, get_metadata_from_db, get_column_from_db"
   ]
  },
  {
   "cell_type": "code",
   "execution_count": 40,
   "metadata": {},
   "outputs": [],
   "source": [
    "# path = \"./data/docs/literature1\" # 1 good \n",
    "# path = \"./data/docs/literature6\" # 6 good \n",
    "# path = \"./data/docs/literature9\" # 9 good\n",
    "path = \"./data/docs/abstracts\"  # all\n",
    "\n",
    "chunk_size=1500\n",
    "chunk_overlap=100\n",
    "persist_directory = 'data/db/vector/huggingface_index_all'\n",
    "collection_name = 'paper_index'\n",
    "collection_name_abstract = 'abstract_index'\n",
    "excel_file = 'data/db/repo.xlsx'"
   ]
  },
  {
   "cell_type": "code",
   "execution_count": 41,
   "metadata": {},
   "outputs": [],
   "source": [
    "embedding_function = get_embedding_function()"
   ]
  },
  {
   "cell_type": "markdown",
   "metadata": {},
   "source": [
    "### The following 4 lines only need to be run once (after the pdf is loaded for the first time)"
   ]
  },
  {
   "cell_type": "code",
   "execution_count": 42,
   "metadata": {},
   "outputs": [],
   "source": [
    "pdf_files = get_fullpath_of_pdf_files(path)"
   ]
  },
  {
   "cell_type": "code",
   "execution_count": 33,
   "metadata": {
    "scrolled": false
   },
   "outputs": [],
   "source": [
    "pdf_docs = get_pdf_documents(pdf_files)"
   ]
  },
  {
   "cell_type": "code",
   "execution_count": 35,
   "metadata": {},
   "outputs": [
    {
     "data": {
      "text/plain": [
       "13"
      ]
     },
     "execution_count": 35,
     "metadata": {},
     "output_type": "execute_result"
    }
   ],
   "source": [
    "len(pdf_docs)"
   ]
  },
  {
   "cell_type": "code",
   "execution_count": 37,
   "metadata": {},
   "outputs": [],
   "source": [
    "split_docs = get_split_documents(pdf_docs, chunk_size, chunk_overlap)"
   ]
  },
  {
   "cell_type": "code",
   "execution_count": 38,
   "metadata": {},
   "outputs": [
    {
     "data": {
      "text/plain": [
       "62"
      ]
     },
     "execution_count": 38,
     "metadata": {},
     "output_type": "execute_result"
    }
   ],
   "source": [
    "len(split_docs)"
   ]
  },
  {
   "cell_type": "code",
   "execution_count": null,
   "metadata": {},
   "outputs": [],
   "source": [
    "create_db(split_docs,embedding_function,collection_name,persist_directory)"
   ]
  },
  {
   "cell_type": "markdown",
   "metadata": {},
   "source": [
    "### 生成标题+润色 vector DB"
   ]
  },
  {
   "cell_type": "code",
   "execution_count": 43,
   "metadata": {},
   "outputs": [
    {
     "name": "stdout",
     "output_type": "stream",
     "text": [
      "get meta from LLM ./data/docs/abstracts/Political extremism and economic activity.pdf\n",
      "Data append to  data/db/repo.xlsx\n",
      "get meta from LLM ./data/docs/abstracts/Economic growth and political extremism.pdf\n",
      "Data append to  data/db/repo.xlsx\n"
     ]
    }
   ],
   "source": [
    "save_pdfs_metadata_to_db(pdf_files, excel_file)"
   ]
  },
  {
   "cell_type": "code",
   "execution_count": 44,
   "metadata": {},
   "outputs": [],
   "source": [
    "abstract_docs = get_column_from_db(excel_file, 'abstract')"
   ]
  },
  {
   "cell_type": "code",
   "execution_count": 50,
   "metadata": {},
   "outputs": [
    {
     "name": "stderr",
     "output_type": "stream",
     "text": [
      "Using embedded DuckDB with persistence: data will be stored in: data/db/vector/huggingface_index_all\n"
     ]
    }
   ],
   "source": [
    "create_db(abstract_docs,embedding_function,collection_name_abstract,persist_directory)\n"
   ]
  },
  {
   "cell_type": "code",
   "execution_count": 14,
   "metadata": {},
   "outputs": [],
   "source": [
    "# dict = get_metadata_from_db(excel_file)"
   ]
  },
  {
   "cell_type": "markdown",
   "metadata": {},
   "source": [
    "## Query"
   ]
  },
  {
   "cell_type": "markdown",
   "metadata": {},
   "source": [
    "### 标题+润色 embedding abstract, keywords, title 匹配相似文章，结构或是语言润色"
   ]
  },
  {
   "cell_type": "code",
   "execution_count": 52,
   "metadata": {},
   "outputs": [],
   "source": [
    "my_abstract = \"This paper believes that voters often follow the peak-end rule according to the theory of behavioral economics when they make voting decisions. However, at present, there is no relevant research on the relationship between economic voting and peak-end rule. This paper discusses voters’ decision process of using peak-end rule with a cross-nation panel data including 595 national elections in 70 countries from 1960 - 2020. The results show that voters do follow the peak-end rule. The average of highest annual GDP growth rate in the term and the GDP growth rate on final year before the election have positive impact on the vote share of the incumbent party. This paper also finds that voters with lower education level rely more on the peak-end rule. To solve the endogenous problems, this paper introduces an instrumental variable strategy. We introduce the global oil price and the federal fund rate as instrumental variables. \"\n",
    "my_title = \"\"\n",
    "my_keywords = \"\""
   ]
  },
  {
   "cell_type": "code",
   "execution_count": 53,
   "metadata": {},
   "outputs": [
    {
     "name": "stderr",
     "output_type": "stream",
     "text": [
      "Using embedded DuckDB with persistence: data will be stored in: data/db/vector/huggingface_index_all\n"
     ]
    }
   ],
   "source": [
    "similar_abstracts_docs = get_similar_docs(my_abstract, 5, embedding_function, collection_name_abstract, persist_directory)"
   ]
  },
  {
   "cell_type": "code",
   "execution_count": 54,
   "metadata": {},
   "outputs": [],
   "source": [
    "abstracts_output = get_chain_output(my_abstract,similar_abstracts_docs)"
   ]
  },
  {
   "cell_type": "code",
   "execution_count": 55,
   "metadata": {},
   "outputs": [
    {
     "data": {
      "text/plain": [
       "{'query': 'This paper believes that voters often follow the peak-end rule according to the theory of behavioral economics when they make voting decisions. However, at present, there is no relevant research on the relationship between economic voting and peak-end rule. This paper discusses voters’ decision process of using peak-end rule with a cross-nation panel data including 595 national elections in 70 countries from 1960 - 2020. The results show that voters do follow the peak-end rule. The average of highest annual GDP growth rate in the term and the GDP growth rate on final year before the election have positive impact on the vote share of the incumbent party. This paper also finds that voters with lower education level rely more on the peak-end rule. To solve the endogenous problems, this paper introduces an instrumental variable strategy. We introduce the global oil price and the federal fund rate as instrumental variables. ',\n",
       " 'context': [Document(page_content='In almost all democratic national elections an individual vote cannot change the election outcome. The fact that many individuals nevertheless participate voluntarily in such elections suggests that people do care about democracy as such. This experiment investigates the value of democratic voting rights by providing participants the chance to sell them. More speciﬁcally, an incentive compatible mechanism is used to elicit the willingness-to-accept value of the voting right in the election of the German Bundestag on 16 October 1994. A postexperimental questionnaire makes it possible to assess the relative importance of answers to the frequently raised question: Why do people vote?', metadata={'title': 'Do people care about democracy? An experiment exploring the value of voting rights', 'author': 'WERNER G  ¨ UTH, HANNELORE WECK-HANNEMANN', 'keywords': 'democracy, voting rights, incentive compatible mechanism, willingness-to-accept value, postexperimental questionnaire', 'filename': 'Do people care about democracy_An experiment exploring the value of voting rights.pdf'}),\n",
       "  Document(page_content='We study the effect of economic activity on the vote share of extremist political parties in Europe. Using a model that addresses the prevalent endogeneity problem, which is likely to have discouraged similar research, we find that small fluctuations in income per-capita have significant inverse effects on the vote share of far-right parties. Our results explain the widespread success of such parties in entering European parliaments following the 2007–2008 crisis. They also suggest that,  ceteris paribus , far-right parties on the margin of electoral thresholds run the risk of losing parliamentary representation in the face of a steadily recovering world economy.', metadata={'title': 'Political extremism and economic activity', 'author': 'Matthew Rao, Paul A. Raschky, Christis G. Tombazos', 'keywords': 'Political extremism| Nationalism| Populism| Economic growth| Europe', 'filename': 'Political extremism and economic activity.pdf'}),\n",
       "  Document(page_content='We theoretically and experimentally investigate the effect of self-serving information avoidance on moral bias in democratic and individual decisions in the context of climate change mitigation. Subjects choose between two allocations that differ in payoffs and contributions to climate change mitigation. We vary the observability of the environmental contribution, as well as the decision context associated with different levels of pivotality. If the contribution is directly observable, we find evidence for lower pivotality leading to higher levels of “green” decisions, as predicted by the low-cost theory of voting. This effect disappears if subjects can avoid information on the contribution. Instead, we find evidence for the exploitation of moral wiggle room via information avoidance in larger democracies as well as in the consumption context. Our results indicate that information avoidance substitutes expressive voting as an instrument to manage cognitive dissonance on the part of the voter. Hence, moral biases in elections might be less likely than previously thought.', metadata={'title': 'Expressive voting versus information avoidance: experimental evidence in the context of climate change mitigation', 'author': 'Katharina Momsen, Markus Ohndorf', 'keywords': 'Expressive voting · Information avoidance · Experiment · Moral wiggle room · Climate change', 'filename': 'Expressive voting versus information avoidance_expenrimental evidence in the context of climate change mitigation.pdf'}),\n",
       "  Document(page_content='The effect of primary formats on voting behavior and candidate fortune has been the topic of recent political, academic and legal arguments. We address these debates by examining voter behavior and election outcomes across primary systems in the laboratory. While we ﬁnd the rate of strategic voting is generally low, the rate varies across primary formats and the potential impact on election outcomes differs from conventional perceptions. Results suggest that more open primary systems generate more strategic voting, but contrary to conventional wisdom, more open systems do not necessarily lead to more moderate election winners.', metadata={'title': 'Crashing the party: An experimental investigation of strategic voting in primary elections', 'author': 'TODD L. CHERRY, STEPHAN KROLL', 'keywords': 'Primary elections, strategic voting, laboratory experiments', 'filename': 'Crashing the party_An experimental investigation of strategic voting in primary elections.pdf'}),\n",
       "  Document(page_content='We argue that the growth rate, but not the level of aggregate income, affects the support for extreme political parties. In our model, extreme parties offer short-run benefits to part of the population at the expense of a minority. Growth effects on the support for such parties arise when uncertainty exists over whether the same subset of individuals will receive the same benefits in the future. More people are willing to take political risks if economic growth is slow. Based on a panel of 16 European countries, our empirical analysis shows that slower growth rates are associated with a significant increase in right-wing extremism. We find no significant effect of economic growth on the support for extreme left-wing parties.', metadata={'title': 'Economic growth and political extremism', 'author': 'Markus Brückner, Hans Peter Grüner', 'keywords': 'Economic growth · Political extremism · Inequality', 'filename': 'Economic growth and\\xa0political extremism.pdf'})],\n",
       " 'text': '{\\n    \"sentence\": [\"This paper discusses voters’ decision process of using peak-end rule with a cross-nation panel data including 595 national elections in 70 countries from 1960 - 2020.\", \"The results show that voters do follow the peak-end rule.\", \"This paper also finds that voters with lower education level rely more on the peak-end rule.\"],\\n    \"source\": [\"This paper believes that voters often follow the peak-end rule according to the theory of behavioral economics when they make voting decisions.\"],\\n    \"score\": [0.75, 0.71, 0.68]\\n}'}"
      ]
     },
     "execution_count": 55,
     "metadata": {},
     "output_type": "execute_result"
    }
   ],
   "source": [
    "abstracts_output"
   ]
  },
  {
   "cell_type": "markdown",
   "metadata": {},
   "source": [
    "### 匹配"
   ]
  },
  {
   "cell_type": "code",
   "execution_count": 10,
   "metadata": {},
   "outputs": [],
   "source": [
    "query = \"However, the China's cadre evaluation system is different from the voting system in the Western countries\""
   ]
  },
  {
   "cell_type": "code",
   "execution_count": 11,
   "metadata": {
    "scrolled": true
   },
   "outputs": [
    {
     "name": "stderr",
     "output_type": "stream",
     "text": [
      "Using embedded DuckDB with persistence: data will be stored in: data/db/vector/huggingface_index2\n"
     ]
    }
   ],
   "source": [
    "similar_docs = get_similar_docs(query, 5, embedding_function, collection_name, persist_directory)"
   ]
  },
  {
   "cell_type": "code",
   "execution_count": 12,
   "metadata": {},
   "outputs": [],
   "source": [
    "output = get_chain_output(query,similar_docs)"
   ]
  },
  {
   "cell_type": "code",
   "execution_count": 13,
   "metadata": {},
   "outputs": [
    {
     "name": "stdout",
     "output_type": "stream",
     "text": [
      "No result was found, Using embedding searching strategy!!!\n",
      "The 0 sentence\n",
      "Sentence: Empirically, the literature linking China’s cadre eval- uation system and growth produces highly ambiguous and problematic results\n",
      "Source:{'author': 'VICTOR SHIH and CHRISTOPHER ADOLPH and MINGXING LIU', 'year': '2012', 'title': 'Getting Ahead in the Communist Party: Explaining the Advancement of Central Committee Members in China', 'journal': 'American Political Science Review'}\n",
      "Score:0.6213207978549135\n",
      "========.\n",
      "========.\n",
      "The 1 sentence\n",
      "Sentence: After the founding of the People’s Republic of China, the CCP introduced formal methods of evaluating cadres, which were formally linked to their promotion\n",
      "Source:{'author': 'VICTOR SHIH and CHRISTOPHER ADOLPH and MINGXING LIU', 'year': '2012', 'title': 'Getting Ahead in the Communist Party: Explaining the Advancement of Central Committee Members in China', 'journal': 'American Political Science Review'}\n",
      "Score:0.6769256411963147\n",
      "========.\n",
      "========.\n",
      "The 2 sentence\n",
      "Sentence: In addition to the quantitative ﬁndings, a larger qual- itative literature on the evolution of the cadre eval- uation system also seems to support the view of a performance-based elite promotion system in China\n",
      "Source:{'author': 'VICTOR SHIH and CHRISTOPHER ADOLPH and MINGXING LIU', 'year': '2012', 'title': 'Getting Ahead in the Communist Party: Explaining the Advancement of Central Committee Members in China', 'journal': 'American Political Science Review'}\n",
      "Score:0.7124961373445131\n",
      "========.\n",
      "========.\n"
     ]
    }
   ],
   "source": [
    "final_list = run_text_match(output,query,similar_docs, embedding_function)"
   ]
  },
  {
   "cell_type": "code",
   "execution_count": null,
   "metadata": {},
   "outputs": [],
   "source": []
  }
 ],
 "metadata": {
  "kernelspec": {
   "display_name": "Python 3 (ipykernel)",
   "language": "python",
   "name": "python3"
  },
  "language_info": {
   "codemirror_mode": {
    "name": "ipython",
    "version": 3
   },
   "file_extension": ".py",
   "mimetype": "text/x-python",
   "name": "python",
   "nbconvert_exporter": "python",
   "pygments_lexer": "ipython3",
   "version": "3.8.13"
  }
 },
 "nbformat": 4,
 "nbformat_minor": 2
}
