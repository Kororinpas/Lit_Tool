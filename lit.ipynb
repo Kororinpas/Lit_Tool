{
 "cells": [
  {
   "cell_type": "code",
   "execution_count": 1,
   "metadata": {},
   "outputs": [],
   "source": [
    "# %run packages.ipynb"
   ]
  },
  {
   "cell_type": "code",
   "execution_count": 1,
   "metadata": {},
   "outputs": [],
   "source": [
    "from pdf_files import get_fullpath_of_pdf_files"
   ]
  },
  {
   "cell_type": "code",
   "execution_count": 2,
   "metadata": {},
   "outputs": [],
   "source": [
    "from pdf_documents import get_pdf_documents"
   ]
  },
  {
   "cell_type": "code",
   "execution_count": 3,
   "metadata": {},
   "outputs": [],
   "source": [
    "from document_util import get_split_documents"
   ]
  },
  {
   "cell_type": "code",
   "execution_count": 4,
   "metadata": {},
   "outputs": [],
   "source": [
    "from embedding_function import get_embedding_function"
   ]
  },
  {
   "cell_type": "code",
   "execution_count": 5,
   "metadata": {},
   "outputs": [],
   "source": [
    "from chroma_db import create_db, get_similar_docs"
   ]
  },
  {
   "cell_type": "code",
   "execution_count": 6,
   "metadata": {},
   "outputs": [],
   "source": [
    "from chain import get_chain_output"
   ]
  },
  {
   "cell_type": "code",
   "execution_count": 7,
   "metadata": {},
   "outputs": [],
   "source": [
    "from match import run_text_match"
   ]
  },
  {
   "cell_type": "code",
   "execution_count": 12,
   "metadata": {},
   "outputs": [],
   "source": [
    "from pdf_retrieval import save_pdfs_to_db, get_metadata_from_db, get_column_from_db, get_filename_list,get_polish_intro"
   ]
  },
  {
   "cell_type": "code",
   "execution_count": 13,
   "metadata": {},
   "outputs": [],
   "source": [
    "# path = \"./data/docs/literature_suicide_1\" # 1 good \n",
    "# path = \"./data/docs/literature6\" # 6 good \n",
    "# path = \"./data/docs/literature9\" # 9 good\n",
    "# path = \"./data/docs/literature_suicide\"  # all\n",
    "path = \"./data/docs/tests\"  # all\n",
    "\n",
    "chunk_size=1500\n",
    "chunk_overlap=100\n",
    "persist_directory = 'data/db/vector/huggingface_index_all'\n",
    "collection_name = 'paper_index'\n",
    "collection_name_abstract = 'abstract_index'\n",
    "excel_file = 'data/db/repo_test.xlsx'\n",
    "excel_date_file = 'data/db/repo_suicide_date.xlsx'\n",
    "intro35_excel_file = 'data/db/repo_suicide_intro_test.xlsx'\n",
    "intro4_excel_file = 'data/db/repo_intro_4.xlsx'"
   ]
  },
  {
   "cell_type": "code",
   "execution_count": 13,
   "metadata": {},
   "outputs": [],
   "source": [
    "embedding_function = get_embedding_function()"
   ]
  },
  {
   "cell_type": "markdown",
   "metadata": {},
   "source": [
    "### The following 4 lines only need to be run once (after the pdf is loaded for the first time)"
   ]
  },
  {
   "cell_type": "code",
   "execution_count": 10,
   "metadata": {},
   "outputs": [],
   "source": [
    "pdf_files = get_fullpath_of_pdf_files(path)"
   ]
  },
  {
   "cell_type": "code",
   "execution_count": 25,
   "metadata": {
    "scrolled": false
   },
   "outputs": [],
   "source": [
    "pdf_docs = get_pdf_documents(pdf_files)"
   ]
  },
  {
   "cell_type": "code",
   "execution_count": 37,
   "metadata": {},
   "outputs": [],
   "source": [
    "split_docs = get_split_documents(pdf_docs, chunk_size, chunk_overlap)"
   ]
  },
  {
   "cell_type": "code",
   "execution_count": null,
   "metadata": {},
   "outputs": [],
   "source": [
    "create_db(split_docs,embedding_function,collection_name,persist_directory)"
   ]
  },
  {
   "cell_type": "markdown",
   "metadata": {},
   "source": [
    "### 生成标题+润色 vector DB"
   ]
  },
  {
   "cell_type": "code",
   "execution_count": 15,
   "metadata": {},
   "outputs": [
    {
     "name": "stdout",
     "output_type": "stream",
     "text": [
      "get meta from LLM ./data/docs/literature_suicide/Fang - 2023 - Family companionship and elderly suicide Evidence.pdf\n",
      "Data append to  data/db/repo_suicide.xlsx\n"
     ]
    }
   ],
   "source": [
    "save_pdfs_to_db(pdf_files, excel_file, meta_type='meta', pages=2)"
   ]
  },
  {
   "cell_type": "code",
   "execution_count": 11,
   "metadata": {},
   "outputs": [
    {
     "data": {
      "text/plain": [
       "['./data/docs/tests/Zhang 等 - 2023 - Across a few prohibitive miles The impact of the .pdf',\n",
       " './data/docs/tests/Almås 等 - 2023 - The macroeconomics of pandemics around the world .pdf',\n",
       " './data/docs/tests/Bakhtiar 等 - 2023 - Social and financial incentives for overcoming a c.pdf',\n",
       " './data/docs/tests/Gassebner 等 - 2023 - Armed groups Competition and political violence.pdf',\n",
       " './data/docs/tests/Gebresilasse - 2023 - Rural roads, agricultural extension, and productiv.pdf',\n",
       " './data/docs/tests/Sha - 2023 - The political impacts of land expropriation in Chi.pdf',\n",
       " './data/docs/tests/Ahmad 等 - 2023 - Uptake, use, and impact of Islamic savings Eviden.pdf',\n",
       " './data/docs/tests/Chen - 2013 - Identifying non-cooperative behavior among spouses.pdf',\n",
       " './data/docs/tests/Augsburg 等 - 2023 - Sanitation and marriage markets in India Evidence.pdf',\n",
       " './data/docs/tests/Elsayed 和 Shirshikova - 2023 - The women-empowering effect of higher education.pdf',\n",
       " './data/docs/tests/Hu 等 - 2023 - Trade-induced competition and ownership dynamics.pdf',\n",
       " './data/docs/tests/Banerjee 和 Sequeira - 2023 - Learning by searching Spatial mismatches and impe.pdf',\n",
       " './data/docs/tests/Allakulov 等 - 2023 - Transparency, governance, and water and sanitation.pdf',\n",
       " './data/docs/tests/Crawfurd 等 - 2023 - Live tutoring calls did not improve learning durin.pdf',\n",
       " \"./data/docs/tests/Gao et al.2023wp.MIGRATION RESTRICTIONS CAN CREATE GENDER INEQUALITY THE STORY OF CHINA'S LEFT-BEHIND CHILDREN.pdf\",\n",
       " './data/docs/tests/Stojetz 和 Brück - 2023 - Exposure to collective gender-based violence cause.pdf',\n",
       " \"./data/docs/tests/Chen 和 Fang - 2021 - The long-term consequences of China's “Later, Long.pdf\",\n",
       " './data/docs/tests/Cavatorta 等 - 2023 - Conflict and reciprocity A study with Palestinian.pdf',\n",
       " './data/docs/tests/Grogan - 2023 - Manufacturing employment and women’s agency Evide.pdf',\n",
       " './data/docs/tests/Barreca 等 - 2021 - Long-run pollution exposure and mortality Evidenc.pdf']"
      ]
     },
     "execution_count": 11,
     "metadata": {},
     "output_type": "execute_result"
    }
   ],
   "source": [
    "pdf_files"
   ]
  },
  {
   "cell_type": "code",
   "execution_count": 13,
   "metadata": {
    "scrolled": true
   },
   "outputs": [
    {
     "name": "stdout",
     "output_type": "stream",
     "text": [
      "get meta from LLM ./data/docs/literature_suicide/_Psychogeriatrics - 2009 - LI - Suicide among the elderly in mainland China.pdf\n",
      "Data append to  data/db/repo_suicide_date.xlsx\n",
      "get meta from LLM ./data/docs/literature_suicide/_10_317.pdf\n",
      "Data append to  data/db/repo_suicide_date.xlsx\n",
      "get meta from LLM ./data/docs/literature_suicide/_s41558-018-0222-x.pdf\n",
      "Data append to  data/db/repo_suicide_date.xlsx\n",
      "get meta from LLM ./data/docs/literature_suicide/_qt5962w9rt_noSplash_6cd49fe2af293ab358f8299ceb1671c5.pdf\n",
      "Data append to  data/db/repo_suicide_date.xlsx\n",
      "get meta from LLM ./data/docs/literature_suicide/_Suicide   Life Threat Behav - 2015 - Shepard - Suicide and Suicidal Attempts in the United States  Costs and Policy.pdf\n",
      "Data append to  data/db/repo_suicide_date.xlsx\n",
      "get meta from LLM ./data/docs/literature_suicide/1-s2.0-S0047272721000761-main.pdf\n",
      "Data append to  data/db/repo_suicide_date.xlsx\n",
      "get meta from LLM ./data/docs/literature_suicide/w30330.pdf\n",
      "Data append to  data/db/repo_suicide_date.xlsx\n",
      "get meta from LLM ./data/docs/literature_suicide/_Zurlo_Hu_Huang.pdf\n",
      "Data append to  data/db/repo_suicide_date.xlsx\n",
      "get meta from LLM ./data/docs/literature_suicide/aeri.20180396.pdf\n",
      "Data append to  data/db/repo_suicide_date.xlsx\n",
      "get meta from LLM ./data/docs/literature_suicide/1-s2.0-S0304387821000432-main.pdf\n",
      "Data append to  data/db/repo_suicide_date.xlsx\n",
      "get meta from LLM ./data/docs/literature_suicide/qjv002.pdf\n",
      "Data append to  data/db/repo_suicide_date.xlsx\n",
      "get meta from LLM ./data/docs/literature_suicide/1-s2.0-S0736467913011360-main.pdf\n",
      "Data append to  data/db/repo_suicide_date.xlsx\n",
      "get meta from LLM ./data/docs/literature_suicide/Fang - 2023 - Family companionship and elderly suicide Evidence.pdf\n",
      "Data append to  data/db/repo_suicide_date.xlsx\n",
      "get meta from LLM ./data/docs/literature_suicide/turbine_zou202009.pdf\n",
      "Data append to  data/db/repo_suicide_date.xlsx\n",
      "get meta from LLM ./data/docs/literature_suicide/aer.100.2.205.pdf\n",
      "Data append to  data/db/repo_suicide_date.xlsx\n",
      "get meta from LLM ./data/docs/literature_suicide/_1-s2.0-S0887618502002396-main.pdf\n",
      "Data append to  data/db/repo_suicide_date.xlsx\n",
      "get meta from LLM ./data/docs/literature_suicide/rest_a_00777.pdf\n",
      "Data append to  data/db/repo_suicide_date.xlsx\n"
     ]
    }
   ],
   "source": [
    "save_pdfs_to_db(pdf_files, excel_date_file, meta_type='date', pages=2)"
   ]
  },
  {
   "cell_type": "code",
   "execution_count": 15,
   "metadata": {},
   "outputs": [
    {
     "name": "stdout",
     "output_type": "stream",
     "text": [
      "get meta from LLM ./data/docs/tests/Almås 等 - 2023 - The macroeconomics of pandemics around the world .pdf\n",
      "Got invalid return object. Expected key `introduction` to be present, but got {'Introduction': 'The COVID-19 pandemic led governments around the world to impose unprecedented restrictions on economic activity. These measures were surprisingly uniform across countries at all income levels: throughout 2020, low-income countries enacted policies roughly as stringent as those in high-income countries ( Fig. 1 ). In the United States, a survey in late March 2020 found zero leading economists disagreed that the policy response to the pandemic should involve ‘‘a very large contraction in economic activity until the spread of infections has dropped significantly’’ ( IGM Forum ,  2020 ). At the same time, many economists expressed reservations about applying similar policy prescriptions to developing countries ( Ray et al. ,  2020 ;  Ray and Subramanian ,  2020 ;  Barnett-Howell et al. ,  2021 ;  Ravallion ,  2020 ;  Miguel and Mobarak ,  2022 ).'}\n",
      "Data append to  data/db/repo_suicide_intro_test.xlsx\n",
      "get meta from LLM ./data/docs/tests/Chen - 2013 - Identifying non-cooperative behavior among spouses.pdf\n",
      "Got invalid return object. Expected key `introduction` to be present, but got {'Introduction': \"Economic studies of the household have increasingly moved toward collective models in which decision-makers have heterogeneous preferences, and thus both the value and the ownership of income streams are important. When household members bargain over decisions and control over resources affects their allocation, we must consider whether and how individuals may behave strategically in order to increase their own utility. I examine an information problem that permits an individual to conceal expenditures and/or allocations from his/her spouse. This may lead to non-cooperative behavior, as intra-household allocations can only be coordinated to the extent that they can be enforced. Migration presents a clear opportunity for such behavior: the migrant has limited ability to observe expenditure and allocation decisions made by the spouse remaining at home but may also be able to conceal his own expenditures by determining the amount of money that will be remitted to the household. The economic literature on the impact of remittances on migrant-sending households (see Yang, 2011 for a survey) has largely neglected a key feature of such income: the difficulty inherent in monitoring the disbursement and allocation of remittances (for exceptions, see Ashraf et al., 2011; Chami et al., 2003; Chen, 2006). With rising trends in both rural-urban and international migration, it is essential to understand the implications of such an information problem in order to assess the ultimate impact on origin households and communities. The existence of non-cooperative behavior among household members would suggest that expanding opportunities for migration will have different effects than simply increasing the amount of income received by the household. Non-cooperative behavior would also have important implications for policy and program design because it implies that the channel through which income is received can have important spillover effects. For example, direct subsidies are easily observed by other household members, whereas the proceeds of micro-credit enterprises could be concealed and used to finance expenditures that otherwise would not be undertaken. I introduce asymmetric information into a model of household decision-making such that the migrant has imperfect information about the actions taken by his spouse. If the migrant also has incomplete information about his spouse's preferences, it is possible to have an equilibrium in which the migrant behaves cooperatively but his spouse does not. If the migrant does have complete information about his spouse's preferences, he can design a fully incentive-compatible contract to elicit cooperative behavior, but intra-household allocations will still shift in favor of the non-migrant, who has the advantage of complete and perfect information. Data are drawn from the China Health and Nutrition Survey (CHNS). The panel aspect of these data allow me to account for both unobservable child and household fixed effects as well as time-varying local economic shocks that may be correlated with the migration decision. Because data on the migrant's remittances and private expenditures are not available, the potential for non-cooperative behavior on the part of the migrant is left to future research. Results indicate that non-cooperative behavior, whether realized or simply invoked as a threat, affects intra-household allocations in a surprising way. Children's schooling and health exhibit no significant change with the father's migration, controlling for income. This is not consistent with a case in which migration increases mother's bargaining power, given existing evidence that mothers tend to invest more heavily in these goods. In contrast, time spent in household chores does change; girls engage in more housework while mothers reduce their time in both housework and income-generating activities. The simultaneous increase in child labor and reduction in mother's labor cannot be explained with a cooperative model of household decision-making: as long as fathers derive (weakly) greater disutility from child labor than from mothers' labor, their absence from the household should not lead to an increase in child labor without an accompanying increase in mother's household labor. Moreover, this pattern is not evident among households in which the migrant happens to be home at the time of the survey, which suggests that it is the physical absence of the father – and not self-selection into migration – that is driving the results. The following section presents a framework for modeling the effect of migration on intra-household allocation and compares equilibria with and without asymmetric information. Section 3 describes the key empirical distinctions between cooperative and non-cooperative formulations of the model and shows that the data are inconsistent with standard cooperative models of the household. Several robustness checks are provided in Section 4 to ensure that the results are not driven by the assumptions of the model or the limitations of the empirical strategy, and Section 5 concludes.\"}\n",
      "Data append to  data/db/repo_suicide_intro_test.xlsx\n"
     ]
    }
   ],
   "source": [
    "save_pdfs_to_db(pdf_files, intro35_excel_file, meta_type='intro', pages=3)"
   ]
  },
  {
   "cell_type": "code",
   "execution_count": 14,
   "metadata": {},
   "outputs": [],
   "source": [
    "abstract_docs = get_column_from_db(excel_file, 'abstract')"
   ]
  },
  {
   "cell_type": "code",
   "execution_count": 50,
   "metadata": {},
   "outputs": [
    {
     "name": "stderr",
     "output_type": "stream",
     "text": [
      "Using embedded DuckDB with persistence: data will be stored in: data/db/vector/huggingface_index_all\n"
     ]
    }
   ],
   "source": [
    "create_db(abstract_docs,embedding_function,collection_name_abstract,persist_directory)\n"
   ]
  },
  {
   "cell_type": "code",
   "execution_count": 14,
   "metadata": {},
   "outputs": [],
   "source": [
    "# dict = get_metadata_from_db(excel_file)"
   ]
  },
  {
   "cell_type": "markdown",
   "metadata": {},
   "source": [
    "## Query"
   ]
  },
  {
   "cell_type": "markdown",
   "metadata": {},
   "source": [
    "### 标题+润色 embedding abstract, keywords, title 匹配相似文章，结构或是语言润色"
   ]
  },
  {
   "cell_type": "code",
   "execution_count": 15,
   "metadata": {},
   "outputs": [],
   "source": [
    "my_abstract = \"This paper believes that voters often follow the peak-end rule according to the theory of behavioral economics when they make voting decisions. However, at present, there is no relevant research on the relationship between economic voting and peak-end rule. This paper discusses voters’ decision process of using peak-end rule with a cross-nation panel data including 595 national elections in 70 countries from 1960 - 2020. The results show that voters do follow the peak-end rule. The average of highest annual GDP growth rate in the term and the GDP growth rate on final year before the election have positive impact on the vote share of the incumbent party. This paper also finds that voters with lower education level rely more on the peak-end rule. To solve the endogenous problems, this paper introduces an instrumental variable strategy. We introduce the global oil price and the federal fund rate as instrumental variables. \"\n",
    "my_title = \"\"\n",
    "my_keywords = \"\""
   ]
  },
  {
   "cell_type": "code",
   "execution_count": 16,
   "metadata": {},
   "outputs": [
    {
     "name": "stderr",
     "output_type": "stream",
     "text": [
      "Using embedded DuckDB with persistence: data will be stored in: data/db/vector/huggingface_index_all\n"
     ]
    }
   ],
   "source": [
    "similar_abstracts_docs = get_similar_docs(my_abstract, 5, embedding_function, collection_name_abstract, persist_directory)"
   ]
  },
  {
   "cell_type": "code",
   "execution_count": 17,
   "metadata": {},
   "outputs": [],
   "source": [
    "abstracts_output = get_chain_output(my_abstract,similar_abstracts_docs)"
   ]
  },
  {
   "cell_type": "code",
   "execution_count": 18,
   "metadata": {},
   "outputs": [],
   "source": [
    "filename_list = get_filename_list(abstracts_output, path)"
   ]
  },
  {
   "cell_type": "code",
   "execution_count": null,
   "metadata": {},
   "outputs": [],
   "source": [
    "# save_pdfs_to_db(filename_list, intro35_excel_file, is_Intro=True, pages=5)"
   ]
  },
  {
   "cell_type": "code",
   "execution_count": 10,
   "metadata": {},
   "outputs": [],
   "source": [
    "intros = get_metadata_from_db(intro35_excel_file)"
   ]
  },
  {
   "cell_type": "code",
   "execution_count": 11,
   "metadata": {},
   "outputs": [],
   "source": [
    "polish = get_polish_intro('', intros[:3], words_limit=600, temperature=0)"
   ]
  },
  {
   "cell_type": "code",
   "execution_count": 12,
   "metadata": {},
   "outputs": [
    {
     "data": {
      "text/plain": [
       "'Introduction:\\n\\nEconomics is a social science that studies how individuals, businesses, and governments allocate resources to satisfy their needs and wants. It is a field that has been around for centuries and has evolved over time to become one of the most important disciplines in the world. The Journal of Economic Literature is a publication that aims to provide a comprehensive overview of the latest research in economics. In this journal, readers can find articles on a wide range of topics, including macroeconomics, microeconomics, international trade, finance, and more.\\n\\nOne of the most interesting aspects of economics is how it affects our daily lives. From the price of goods and services to the policies that governments implement, economics plays a crucial role in shaping our world. In this journal, we aim to explore the latest research in economics and how it impacts our lives.\\n\\nOne of the articles in this journal explores the value of voting rights. The authors conducted an experiment to measure the values that people assign to their voting rights. The results were surprising, as most participants did not want to sell their voting rights, even at high prices. This article sheds light on why people vote and the importance they place on their right to vote.\\n\\nAnother article in this journal examines the impact of economic growth on the support for extreme political parties in western democracies. The authors argue that the growth rate, but not the level of aggregate income, affects the support for extremism. They develop a game-theoretic model that analyzes the uncertainty effect of extreme political parties on future income distribution. The empirical analysis shows a significant negative effect of real per capita GDP growth on the support for extreme right-wing parties.\\n\\nFinally, this journal also includes an article that explores the impact of primary election rules on voting behavior and election outcomes. The authors examine the various primary rules in different American states and how they impact the nomination process. They use experimental methods to investigate strategic voting in primary elections and how it affects the outcome of the general election.\\n\\nIn conclusion, the Journal of Economic Literature provides a comprehensive overview of the latest research in economics. The articles in this journal explore a wide range of topics and shed light on how economics impacts our daily lives. We hope that this journal will be a valuable resource for economists, policymakers, and anyone interested in understanding the world around us.'"
      ]
     },
     "execution_count": 12,
     "metadata": {},
     "output_type": "execute_result"
    }
   ],
   "source": [
    "polish"
   ]
  },
  {
   "cell_type": "markdown",
   "metadata": {},
   "source": [
    "### 匹配"
   ]
  },
  {
   "cell_type": "code",
   "execution_count": 10,
   "metadata": {},
   "outputs": [],
   "source": [
    "query = \"However, the China's cadre evaluation system is different from the voting system in the Western countries\""
   ]
  },
  {
   "cell_type": "code",
   "execution_count": 11,
   "metadata": {
    "scrolled": true
   },
   "outputs": [
    {
     "name": "stderr",
     "output_type": "stream",
     "text": [
      "Using embedded DuckDB with persistence: data will be stored in: data/db/vector/huggingface_index2\n"
     ]
    }
   ],
   "source": [
    "similar_docs = get_similar_docs(query, 5, embedding_function, collection_name, persist_directory)"
   ]
  },
  {
   "cell_type": "code",
   "execution_count": 12,
   "metadata": {},
   "outputs": [],
   "source": [
    "output = get_chain_output(query,similar_docs)"
   ]
  },
  {
   "cell_type": "code",
   "execution_count": 13,
   "metadata": {},
   "outputs": [
    {
     "name": "stdout",
     "output_type": "stream",
     "text": [
      "No result was found, Using embedding searching strategy!!!\n",
      "The 0 sentence\n",
      "Sentence: Empirically, the literature linking China’s cadre eval- uation system and growth produces highly ambiguous and problematic results\n",
      "Source:{'author': 'VICTOR SHIH and CHRISTOPHER ADOLPH and MINGXING LIU', 'year': '2012', 'title': 'Getting Ahead in the Communist Party: Explaining the Advancement of Central Committee Members in China', 'journal': 'American Political Science Review'}\n",
      "Score:0.6213207978549135\n",
      "========.\n",
      "========.\n",
      "The 1 sentence\n",
      "Sentence: After the founding of the People’s Republic of China, the CCP introduced formal methods of evaluating cadres, which were formally linked to their promotion\n",
      "Source:{'author': 'VICTOR SHIH and CHRISTOPHER ADOLPH and MINGXING LIU', 'year': '2012', 'title': 'Getting Ahead in the Communist Party: Explaining the Advancement of Central Committee Members in China', 'journal': 'American Political Science Review'}\n",
      "Score:0.6769256411963147\n",
      "========.\n",
      "========.\n",
      "The 2 sentence\n",
      "Sentence: In addition to the quantitative ﬁndings, a larger qual- itative literature on the evolution of the cadre eval- uation system also seems to support the view of a performance-based elite promotion system in China\n",
      "Source:{'author': 'VICTOR SHIH and CHRISTOPHER ADOLPH and MINGXING LIU', 'year': '2012', 'title': 'Getting Ahead in the Communist Party: Explaining the Advancement of Central Committee Members in China', 'journal': 'American Political Science Review'}\n",
      "Score:0.7124961373445131\n",
      "========.\n",
      "========.\n"
     ]
    }
   ],
   "source": [
    "final_list = run_text_match(output,query,similar_docs, embedding_function)"
   ]
  },
  {
   "cell_type": "code",
   "execution_count": null,
   "metadata": {},
   "outputs": [],
   "source": []
  }
 ],
 "metadata": {
  "kernelspec": {
   "display_name": "Python 3 (ipykernel)",
   "language": "python",
   "name": "python3"
  },
  "language_info": {
   "codemirror_mode": {
    "name": "ipython",
    "version": 3
   },
   "file_extension": ".py",
   "mimetype": "text/x-python",
   "name": "python",
   "nbconvert_exporter": "python",
   "pygments_lexer": "ipython3",
   "version": "3.8.13"
  }
 },
 "nbformat": 4,
 "nbformat_minor": 2
}
