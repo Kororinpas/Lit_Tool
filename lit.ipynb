{
 "cells": [
  {
   "cell_type": "code",
   "execution_count": 1,
   "metadata": {},
   "outputs": [],
   "source": [
    "# %run packages.ipynb"
   ]
  },
  {
   "cell_type": "code",
   "execution_count": 1,
   "metadata": {},
   "outputs": [],
   "source": [
    "from pdf_files import get_fullpath_of_pdf_files"
   ]
  },
  {
   "cell_type": "code",
   "execution_count": 2,
   "metadata": {},
   "outputs": [],
   "source": [
    "from pdf_documents import get_pdf_documents"
   ]
  },
  {
   "cell_type": "code",
   "execution_count": 3,
   "metadata": {},
   "outputs": [],
   "source": [
    "from document_util import get_split_documents"
   ]
  },
  {
   "cell_type": "code",
   "execution_count": 4,
   "metadata": {},
   "outputs": [],
   "source": [
    "from embedding_function import get_embedding_function"
   ]
  },
  {
   "cell_type": "code",
   "execution_count": 5,
   "metadata": {},
   "outputs": [],
   "source": [
    "from chroma_db import create_db, get_similar_docs"
   ]
  },
  {
   "cell_type": "code",
   "execution_count": 6,
   "metadata": {},
   "outputs": [],
   "source": [
    "from chain import get_chain_output"
   ]
  },
  {
   "cell_type": "code",
   "execution_count": 7,
   "metadata": {},
   "outputs": [],
   "source": [
    "from match import run_text_match"
   ]
  },
  {
   "cell_type": "code",
   "execution_count": 8,
   "metadata": {},
   "outputs": [],
   "source": [
    "# path = \"./data/docs/literature1\" # 1 good \n",
    "# path = \"./data/docs/literature6\" # 6 good \n",
    "# path = \"./data/docs/literature9\" # 9 good\n",
    "path = \"./data/docs/literature\"  # all\n",
    "\n",
    "chunk_size=1500\n",
    "chunk_overlap=100\n",
    "persist_directory = 'data/db/vector/huggingface_index_all'\n",
    "collection_name = 'paper_index'"
   ]
  },
  {
   "cell_type": "code",
   "execution_count": 9,
   "metadata": {},
   "outputs": [],
   "source": [
    "embedding_function = get_embedding_function()"
   ]
  },
  {
   "cell_type": "markdown",
   "metadata": {},
   "source": [
    "### The following 4 lines only need to be run once (after the pdf is loaded for the first time)"
   ]
  },
  {
   "cell_type": "code",
   "execution_count": 20,
   "metadata": {},
   "outputs": [],
   "source": [
    "pdf_files = get_fullpath_of_pdf_files(path)"
   ]
  },
  {
   "cell_type": "code",
   "execution_count": 21,
   "metadata": {
    "scrolled": false
   },
   "outputs": [
    {
     "name": "stdout",
     "output_type": "stream",
     "text": [
      "./data/docs/literature/shih2012.pdf is not identified! Using other strategy!!\n",
      "./data/docs/literature/EPBC1.pdf is not identified! Using other strategy!!\n",
      "./data/docs/literature/su2015.pdf is not identified! Using other strategy!!\n",
      "./data/docs/literature/tujula2007.pdf is not identified! Using other strategy!!\n",
      "LLM strategy failed!!./data/docs/literature/tujula2007.pdf Please manually add it!!\n",
      "./data/docs/literature/xu2011.pdf is not identified! Using other strategy!!\n",
      "./data/docs/literature/kahn2015.pdf is not identified! Using other strategy!!\n"
     ]
    }
   ],
   "source": [
    "pdf_docs = get_pdf_documents(pdf_files)"
   ]
  },
  {
   "cell_type": "code",
   "execution_count": null,
   "metadata": {},
   "outputs": [],
   "source": [
    "split_docs = get_split_documents(pdf_docs, chunk_size, chunk_overlap)"
   ]
  },
  {
   "cell_type": "code",
   "execution_count": null,
   "metadata": {},
   "outputs": [],
   "source": [
    "create_db(split_docs,embedding_function,collection_name,persist_directory)"
   ]
  },
  {
   "cell_type": "markdown",
   "metadata": {},
   "source": [
    "## Query"
   ]
  },
  {
   "cell_type": "code",
   "execution_count": 10,
   "metadata": {},
   "outputs": [],
   "source": [
    "query = \"However, the China's cadre evaluation system is different from the voting system in the Western countries\""
   ]
  },
  {
   "cell_type": "code",
   "execution_count": 11,
   "metadata": {},
   "outputs": [
    {
     "name": "stderr",
     "output_type": "stream",
     "text": [
      "Using embedded DuckDB with persistence: data will be stored in: data/db/vector/huggingface_index2\n"
     ]
    }
   ],
   "source": [
    "similar_docs = get_similar_docs(query, 5, embedding_function, collection_name, persist_directory)"
   ]
  },
  {
   "cell_type": "code",
   "execution_count": 12,
   "metadata": {},
   "outputs": [],
   "source": [
    "output = get_chain_output(query,similar_docs)"
   ]
  },
  {
   "cell_type": "code",
   "execution_count": 13,
   "metadata": {},
   "outputs": [
    {
     "name": "stdout",
     "output_type": "stream",
     "text": [
      "No result was found, Using embedding searching strategy!!!\n",
      "The 0 sentence\n",
      "Sentence: Empirically, the literature linking China’s cadre eval- uation system and growth produces highly ambiguous and problematic results\n",
      "Source:{'author': 'VICTOR SHIH and CHRISTOPHER ADOLPH and MINGXING LIU', 'year': '2012', 'title': 'Getting Ahead in the Communist Party: Explaining the Advancement of Central Committee Members in China', 'journal': 'American Political Science Review'}\n",
      "Score:0.6213207978549135\n",
      "========.\n",
      "========.\n",
      "The 1 sentence\n",
      "Sentence: After the founding of the People’s Republic of China, the CCP introduced formal methods of evaluating cadres, which were formally linked to their promotion\n",
      "Source:{'author': 'VICTOR SHIH and CHRISTOPHER ADOLPH and MINGXING LIU', 'year': '2012', 'title': 'Getting Ahead in the Communist Party: Explaining the Advancement of Central Committee Members in China', 'journal': 'American Political Science Review'}\n",
      "Score:0.6769256411963147\n",
      "========.\n",
      "========.\n",
      "The 2 sentence\n",
      "Sentence: In addition to the quantitative ﬁndings, a larger qual- itative literature on the evolution of the cadre eval- uation system also seems to support the view of a performance-based elite promotion system in China\n",
      "Source:{'author': 'VICTOR SHIH and CHRISTOPHER ADOLPH and MINGXING LIU', 'year': '2012', 'title': 'Getting Ahead in the Communist Party: Explaining the Advancement of Central Committee Members in China', 'journal': 'American Political Science Review'}\n",
      "Score:0.7124961373445131\n",
      "========.\n",
      "========.\n"
     ]
    }
   ],
   "source": [
    "final_list = run_text_match(output,query,similar_docs, embedding_function)"
   ]
  },
  {
   "cell_type": "code",
   "execution_count": null,
   "metadata": {},
   "outputs": [],
   "source": []
  }
 ],
 "metadata": {
  "kernelspec": {
   "display_name": "Python 3 (ipykernel)",
   "language": "python",
   "name": "python3"
  },
  "language_info": {
   "codemirror_mode": {
    "name": "ipython",
    "version": 3
   },
   "file_extension": ".py",
   "mimetype": "text/x-python",
   "name": "python",
   "nbconvert_exporter": "python",
   "pygments_lexer": "ipython3",
   "version": "3.8.13"
  }
 },
 "nbformat": 4,
 "nbformat_minor": 2
}
