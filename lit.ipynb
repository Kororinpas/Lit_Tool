{
 "cells": [
  {
   "cell_type": "code",
   "execution_count": 1,
   "metadata": {},
   "outputs": [],
   "source": [
    "# %run packages.ipynb"
   ]
  },
  {
   "cell_type": "code",
   "execution_count": 2,
   "metadata": {},
   "outputs": [],
   "source": [
    "from pdf_files import get_fullpath_of_pdf_files"
   ]
  },
  {
   "cell_type": "code",
   "execution_count": 3,
   "metadata": {},
   "outputs": [],
   "source": [
    "from pdf_documents import get_pdf_documents"
   ]
  },
  {
   "cell_type": "code",
   "execution_count": 4,
   "metadata": {},
   "outputs": [],
   "source": [
    "from document_util import get_split_documents"
   ]
  },
  {
   "cell_type": "code",
   "execution_count": 5,
   "metadata": {},
   "outputs": [],
   "source": [
    "from embedding_function import get_embedding_function"
   ]
  },
  {
   "cell_type": "code",
   "execution_count": 6,
   "metadata": {},
   "outputs": [],
   "source": [
    "from chroma_db import create_db, get_similar_docs"
   ]
  },
  {
   "cell_type": "code",
   "execution_count": 7,
   "metadata": {},
   "outputs": [],
   "source": [
    "from chain import get_chain_output"
   ]
  },
  {
   "cell_type": "code",
   "execution_count": 8,
   "metadata": {},
   "outputs": [],
   "source": [
    "from match import run_text_match"
   ]
  },
  {
   "cell_type": "code",
   "execution_count": 9,
   "metadata": {},
   "outputs": [],
   "source": [
    "from pdf_retrieval import save_pdfs_to_db, get_metadata_from_db, get_column_from_db, get_filename_list,get_polish_intro"
   ]
  },
  {
   "cell_type": "code",
   "execution_count": 10,
   "metadata": {},
   "outputs": [],
   "source": [
    "# path = \"./data/docs/literature_suicide_1\" # 1 good \n",
    "# path = \"./data/docs/literature6\" # 6 good \n",
    "# path = \"./data/docs/literature9\" # 9 good\n",
    "path = \"./data/docs/literature_suicide\"  # all\n",
    "\n",
    "chunk_size=1500\n",
    "chunk_overlap=100\n",
    "persist_directory = 'data/db/vector/huggingface_index_all'\n",
    "collection_name = 'paper_index'\n",
    "collection_name_abstract = 'abstract_index'\n",
    "excel_file = 'data/db/repo_suicide.xlsx'\n",
    "excel_date_file = 'data/db/repo_suicide_date.xlsx'\n",
    "intro35_excel_file = 'data/db/repo_suicide_intro.xlsx'\n",
    "intro4_excel_file = 'data/db/repo_intro_4.xlsx'"
   ]
  },
  {
   "cell_type": "code",
   "execution_count": 13,
   "metadata": {},
   "outputs": [],
   "source": [
    "embedding_function = get_embedding_function()"
   ]
  },
  {
   "cell_type": "markdown",
   "metadata": {},
   "source": [
    "### The following 4 lines only need to be run once (after the pdf is loaded for the first time)"
   ]
  },
  {
   "cell_type": "code",
   "execution_count": 11,
   "metadata": {},
   "outputs": [],
   "source": [
    "pdf_files = get_fullpath_of_pdf_files(path)"
   ]
  },
  {
   "cell_type": "code",
   "execution_count": 25,
   "metadata": {
    "scrolled": false
   },
   "outputs": [],
   "source": [
    "pdf_docs = get_pdf_documents(pdf_files)"
   ]
  },
  {
   "cell_type": "code",
   "execution_count": 37,
   "metadata": {},
   "outputs": [],
   "source": [
    "split_docs = get_split_documents(pdf_docs, chunk_size, chunk_overlap)"
   ]
  },
  {
   "cell_type": "code",
   "execution_count": null,
   "metadata": {},
   "outputs": [],
   "source": [
    "create_db(split_docs,embedding_function,collection_name,persist_directory)"
   ]
  },
  {
   "cell_type": "markdown",
   "metadata": {},
   "source": [
    "### 生成标题+润色 vector DB"
   ]
  },
  {
   "cell_type": "code",
   "execution_count": 15,
   "metadata": {},
   "outputs": [
    {
     "name": "stdout",
     "output_type": "stream",
     "text": [
      "get meta from LLM ./data/docs/literature_suicide/Fang - 2023 - Family companionship and elderly suicide Evidence.pdf\n",
      "Data append to  data/db/repo_suicide.xlsx\n"
     ]
    }
   ],
   "source": [
    "save_pdfs_to_db(pdf_files, excel_file, meta_type='meta', pages=2)"
   ]
  },
  {
   "cell_type": "code",
   "execution_count": 11,
   "metadata": {},
   "outputs": [
    {
     "data": {
      "text/plain": [
       "['./data/docs/literature_suicide/_Psychogeriatrics - 2009 - LI - Suicide among the elderly in mainland China.pdf',\n",
       " './data/docs/literature_suicide/_10_317.pdf',\n",
       " './data/docs/literature_suicide/_s41558-018-0222-x.pdf',\n",
       " './data/docs/literature_suicide/_qt5962w9rt_noSplash_6cd49fe2af293ab358f8299ceb1671c5.pdf',\n",
       " './data/docs/literature_suicide/_Suicide   Life Threat Behav - 2015 - Shepard - Suicide and Suicidal Attempts in the United States  Costs and Policy.pdf',\n",
       " './data/docs/literature_suicide/1-s2.0-S0047272721000761-main.pdf',\n",
       " './data/docs/literature_suicide/w30330.pdf',\n",
       " './data/docs/literature_suicide/_Zurlo_Hu_Huang.pdf',\n",
       " './data/docs/literature_suicide/aeri.20180396.pdf',\n",
       " './data/docs/literature_suicide/1-s2.0-S0304387821000432-main.pdf',\n",
       " './data/docs/literature_suicide/qjv002.pdf',\n",
       " './data/docs/literature_suicide/1-s2.0-S0736467913011360-main.pdf',\n",
       " './data/docs/literature_suicide/Fang - 2023 - Family companionship and elderly suicide Evidence.pdf',\n",
       " './data/docs/literature_suicide/turbine_zou202009.pdf',\n",
       " './data/docs/literature_suicide/aer.100.2.205.pdf',\n",
       " './data/docs/literature_suicide/_1-s2.0-S0887618502002396-main.pdf',\n",
       " './data/docs/literature_suicide/rest_a_00777.pdf']"
      ]
     },
     "execution_count": 11,
     "metadata": {},
     "output_type": "execute_result"
    }
   ],
   "source": [
    "pdf_files"
   ]
  },
  {
   "cell_type": "code",
   "execution_count": 13,
   "metadata": {},
   "outputs": [
    {
     "name": "stdout",
     "output_type": "stream",
     "text": [
      "get meta from LLM ./data/docs/literature_suicide/_Psychogeriatrics - 2009 - LI - Suicide among the elderly in mainland China.pdf\n",
      "Data append to  data/db/repo_suicide_date.xlsx\n",
      "get meta from LLM ./data/docs/literature_suicide/_10_317.pdf\n",
      "Data append to  data/db/repo_suicide_date.xlsx\n",
      "get meta from LLM ./data/docs/literature_suicide/_s41558-018-0222-x.pdf\n",
      "Data append to  data/db/repo_suicide_date.xlsx\n",
      "get meta from LLM ./data/docs/literature_suicide/_qt5962w9rt_noSplash_6cd49fe2af293ab358f8299ceb1671c5.pdf\n",
      "Data append to  data/db/repo_suicide_date.xlsx\n",
      "get meta from LLM ./data/docs/literature_suicide/_Suicide   Life Threat Behav - 2015 - Shepard - Suicide and Suicidal Attempts in the United States  Costs and Policy.pdf\n",
      "Data append to  data/db/repo_suicide_date.xlsx\n",
      "get meta from LLM ./data/docs/literature_suicide/1-s2.0-S0047272721000761-main.pdf\n",
      "Data append to  data/db/repo_suicide_date.xlsx\n",
      "get meta from LLM ./data/docs/literature_suicide/w30330.pdf\n",
      "Data append to  data/db/repo_suicide_date.xlsx\n",
      "get meta from LLM ./data/docs/literature_suicide/_Zurlo_Hu_Huang.pdf\n",
      "Data append to  data/db/repo_suicide_date.xlsx\n",
      "get meta from LLM ./data/docs/literature_suicide/aeri.20180396.pdf\n",
      "Data append to  data/db/repo_suicide_date.xlsx\n",
      "get meta from LLM ./data/docs/literature_suicide/1-s2.0-S0304387821000432-main.pdf\n",
      "Data append to  data/db/repo_suicide_date.xlsx\n",
      "get meta from LLM ./data/docs/literature_suicide/qjv002.pdf\n",
      "Data append to  data/db/repo_suicide_date.xlsx\n",
      "get meta from LLM ./data/docs/literature_suicide/1-s2.0-S0736467913011360-main.pdf\n",
      "Data append to  data/db/repo_suicide_date.xlsx\n",
      "get meta from LLM ./data/docs/literature_suicide/Fang - 2023 - Family companionship and elderly suicide Evidence.pdf\n",
      "Data append to  data/db/repo_suicide_date.xlsx\n",
      "get meta from LLM ./data/docs/literature_suicide/turbine_zou202009.pdf\n",
      "Data append to  data/db/repo_suicide_date.xlsx\n",
      "get meta from LLM ./data/docs/literature_suicide/aer.100.2.205.pdf\n",
      "Data append to  data/db/repo_suicide_date.xlsx\n",
      "get meta from LLM ./data/docs/literature_suicide/_1-s2.0-S0887618502002396-main.pdf\n",
      "Data append to  data/db/repo_suicide_date.xlsx\n",
      "get meta from LLM ./data/docs/literature_suicide/rest_a_00777.pdf\n",
      "Data append to  data/db/repo_suicide_date.xlsx\n"
     ]
    }
   ],
   "source": [
    "save_pdfs_to_db(pdf_files, excel_date_file, meta_type='date', pages=2)"
   ]
  },
  {
   "cell_type": "code",
   "execution_count": 17,
   "metadata": {},
   "outputs": [
    {
     "name": "stdout",
     "output_type": "stream",
     "text": [
      "get meta from LLM ./data/docs/literature_suicide/_qt5962w9rt_noSplash_6cd49fe2af293ab358f8299ceb1671c5.pdf\n",
      "Got invalid return object. Expected key `introduction` to be present, but got {'Introduction': 'More than three quarters of the world’s suicides occur in developing countries, yet little is known about the drivers of suicidal behavior in poor populations. I study India, where one ﬁfth of global suicides occur and suicide rates have doubled since 1980. Using nationally comprehensive panel data over 47 y, I demonstrate that ﬂuctuations in climate, particularly temperature, significantly influence suicide rates. For temperatures above 20°C, a 1°C increase in a single day’s temperature causes ∼ 70 suicides, on average. This effect occurs only during India’s agricultural growing season, when heat also lowers crop yields. I ﬁnd no evidence that acclimatization, rising incomes, or other unobserved drivers of adaptation are occurring. I estimate that warming over the last 30 y is responsible for 59,300 suicides in India, accounting for 6.8% of the total upward trend. These results deliver large-scale quantitative evidence linking climate and agricultural income to self-harm in a developing country.'}\n",
      "Data append to  data/db/repo_suicide_intro.xlsx\n",
      "get meta from LLM ./data/docs/literature_suicide/1-s2.0-S0304387821000432-main.pdf\n",
      "Got invalid return object. Expected key `introduction` to be present, but got {'Introduction': 'We examine how China’s “Later, Longer, Fewer” (LLF) policies in the early 1970s affect the quality of life of the Chinese elderly forty years later. We identify the causal impact of the LLF policies by exploiting the provincial heterogeneity in policy implementation. We find that the LLF policies reduced the total fertility rate by 1.57 from 1969 to 1978, explaining about half of the decline in fertility during this period. Parents do not receive fewer financial support as a consequence, but they have fewer children living close by and receive fewer contacts and visits from children. We find that the impacts of the family planning policies on elderly parents’ physical and mental well-being are drastically different: parents more exposed to family planning policies do not suffer from worse physical health status, but report more severe depression symptoms. The family planning policies of China are unprecedented in human history in many aspects. China is among the earliest countries to implement family planning, and the policies have been recognized as the most stringent in the world (Cleland et al., 2006). China initiated its stringent family planning policies in the early 1970s—a campaign named “Later, Long, Fewer” (or LLF), which preceded the well-known one-child policy (OCP henceforth) that came into effect in 1979. The total fertility rate (TFR) declined drastically from 5.7 in 1969 to 2.7 in 1978. It is theoretically unclear how LLF affects the quality of life in old age. There is no doubt that children play critical roles in providing old-age support in a developing country like China. However, the reduction in the number of children does not necessarily lead to a worsening situation for seniors for at least two reasons. First, having fewer children spares resources that can be redirected to the parents. The reallocation of resources leads to an improved nutritional intake (Wu and Li, 2012) and higher body mass index (Canning and Schultz, 2012). Moreover, previous literature has documented both time and financial pressure of children for young parents (Milkie et al., 2009; Cáceres-Delpiano and Simonsen, 2012; Ruppanner et al., 2019). Having fewer children also reduces parents’ burden of childbearing, which may benefit their physical and mental health. Secondly, parents can potentially turn to other measures of old-age support to substitute for having fewer children. It has been well documented that Chinese households increased their savings in response to the family planning policies (Banerjee et al., 2010; Curtis et al., 2015; Ge et al., 2018). In this study, we examine the long-term consequences of China’s LLF policies on the well-being of the elderly who are aged 60 and above. We examine a set of outcomes, including the living arrangements, the support received from children, the consumption, as well as the physical and mental health. To estimate the effect of LLF policies, we construct a policy exposure measure that varies at cohort-by-province level using differential establishment years of the Family Planning Leading Group—a government institution that was mainly responsible for implementing the LLF policies—in the early 1970s. In this sense, our empirical strategy is effectively a cohort difference-in-difference (DID) approach. We provide a set of evidence supporting the parallel-trend assumption—the identification requirement of DID. The establishment years are not associated with provincial economic conditions, and our results are robust to various functional specifications that control for heterogeneous trends. Our estimates are also robust to controls for various contemporaneous events, including the Cultural Revolution, the Send-down Movement, and economic development. Previous studies largely refer to the 1979 one-child policy as an exogenous shock to the fertility rate. However, recent studies point out that the one-child policy has a fairly limited impact on lifetime fertility (McElroy and Yang, 2000; Wang et al., 2017; García, 2018). Instead, a majority of the fertility decline in China actually took place during the 1970s prior to the enforcement of the one-child policy. Fig. 1 plots the time series of China’s total fertility rate from 1949 to 2002. The fertility rate declined by three children from 5.7 in 1969 to 2.7 in 1978. During the succeeding decade, however, the rate dropped only marginally to 2.5 children in 1988. Another advantage of utilizing earlier policy shocks is that it allows us to study the elderly that are “old enough.” People aged 20 in 1979 would be only 52 in 2011. In contrast, people aged 20 in 1970 would be 61 in 2011—the age at which people are much more likely to be care-receivers rather than caregivers (to their grandchildren). Using three waves (2011, 2013, 2015) of the panel data from the China Health and Retirement Longitudinal Study (CHARLS), our empirical analysis suggests that China’s family planning policies have different effects on parents’ physical and mental well-being. Regarding their physical well-being, we find that parents with a greater exposure to the family planning policies do not reduce household expenditures. Using a wide range of indicators, we find no evidence that parents’ physical health status would deteriorate as a result of longer exposures to LLF. In contrast, the prospect of elderly parents’ mental well-being is not so optimistic, especially for mothers. Parents receive less companion from children as a result of having fewer children. We also find that women more exposed to the family planning policies are more likely to be depressed. Our findings may be related to China’s high elderly suicide rates (ESR), which are found to be four to five times higher than the general Chinese population and more than twice the global average (Li et al., 2009; Zhou et al., 2019). Why are the effects of family planning on the elderly’s physical and mental well-being so different? Our theoretical framework offers some rationales to this stylized fact by assuming (1) the mental well-being of the elderly is more sensitive to children’s psychological support than to the financial support, and (2) there exists no technology that can “save” children’s companionship. Whereas parents can save their earned income when they are young to prepare for old age, they can never “save up” children’s companionship. The findings in our study thus call for greater attention to the elderly’s mental health. Our study contributes to two strands of literature. First and foremost, our paper contributes to the understanding of the consequences of China’s “Later, Longer, Fewer” campaign. There is a huge literature estimating the effect of China’s family planning policies on various outcomes, including the savings rate (Banerjee et al., 2010; Wei and Zhang, 2011; Curtis et al., 2015; Ge et al., 2018), marriage (Huang and Zhou, 2015), labor supply (Huang et al., 2021; Zhang, 2017), children’s outcomes (Li et al., 2008; Qian, 2009; Li and Zhang, 2017; Qin et al., 2017), parental health (Wu and Li, 2012; Islam and Smyth, 2015), rural-urban migration (Wang et al., 2017; Zhang, 2017), and female empowerment (Huang et al., 2021). However, the term “family planning policies” in those studies almost always refer to the “one-child policy.” The effect of the “Later, Longer, Fewer” policies in the early 1970s, which arguably played a more important role in China’s demographic transition than did the one-child policy (Fig. 1), remains mostly unexplored with only few exceptions. Exploiting the provincial variation in the timing of the policy implementation, Babiarz et al. (2018) and Chen and Huang (2020) provide evidence that the LLF policies lead to reduced fertility, but they do not further investigate the long-term consequences when the affected parents get old. Second, our study adds an important piece of evidence to the long-term consequences of family planning policies worldwide. Family planning policies are not unique to China. According to the World Population Policies Datasets published by the Population Division of the United Nations, the number of countries with direct government support for family planning reached 166 in 2015. Plenty of studies have been devoted to the immediate or short-term effects of family planning policies; however, there are surprisingly few studies on the long-term consequences of the declining fertility as a result of family planning policies (Schultz, 2008). Family planning benefits mothers in the short term in terms of BMI, health status, education, and earnings (Miller, 2010; Canning and Schultz, 2012; Joshi and Schultz, 2013) and benefits children in terms of mortality and education (Foster and Roy, 1996; Joshi and Schultz, 2013). However, the long-term effects of family planning can be very different from short-term ones if we view childrearing as a kind of investment when young in exchange for children’s old-age support when old. Our study is particularly relevant to Oliveira (2016). By using the same data as our study (CHARLS) and using first-born twins as instrument for the number of children, she finds that senior parents with more children receive more financial transfers and are more likely to co-reside with adult children. Our study differs from Oliveira (2016) in two ways. First, while Oliveira (2016) focuses on support from children, we mainly focus on the well-being (such as physical and mental health) of elderly parents. In our framework, support from children is an intermediate outcome that helps us understand how LLF affects parental well-being. Second, the two studies look at different events (LLF versus twin births), and therefore, estimate different local average treatment effects. For example, the “Fewer” part of the LLF policy recommended that each couple have at most two children. Therefore, the LLF policies mainly targeted the prevention of high-order births. A reduction in high-order births has a limited impact on parents’ co-residence decision. The remainder of this paper is organized as follows. In Section 2, we provide the background information on China’s family planning policies and the old-age support system. In Section 3, we build a simple theoretical framework that guides our empirical analysis. In Section 4, we introduce the datasets used in this study and discuss our empirical strategy. In Section 5, we present our main results, that is, the effect of the family planning policies on the quality of life in old age. In Section 6, we discuss how family planning may affect elderly parents’ well-being through channels other than fewer childbirths. Finally, in Section 7 we conclude.'}\n",
      "Data append to  data/db/repo_suicide_intro.xlsx\n",
      "get meta from LLM ./data/docs/literature_suicide/Fang - 2023 - Family companionship and elderly suicide Evidence.pdf\n"
     ]
    },
    {
     "name": "stdout",
     "output_type": "stream",
     "text": [
      "Got invalid return object. Expected key `introduction` to be present, but got {'Introduction': 'Mental health problems among the elderly have attracted increasing attention. The most serious mental health problems may result in suicide, and lack of family companionship is often speculated to be a major cause. In this paper, we use high-frequency suicide rate data and utilize a novel temporal variation in the lunisolar calendar to provide evidence on the protective effects of the Chinese Lunar New Year (when the elderly people receive unusually high level of family companionship) on elderly suicide. We find that elderly suicide rate decreases by 8.7% during the Chinese Lunar New Year, and the protective effects are stronger in counties where the typical level of daily family companionship for the elderly is lower. In addition, the dynamic effects are different for men and for women, and men are more sensitive to the shock of the Chinese Lunar New Year. We consider a variety of alternative mechanisms, and conclude that family companionship is an important channel. Our study calls for greater attention to the mental health status and suicide problem of the elderly, especially with the rapid population aging and increasing prevalence of the “empty-nest” elderly in developing countries.'}\n",
      "Data append to  data/db/repo_suicide_intro.xlsx\n"
     ]
    }
   ],
   "source": [
    "save_pdfs_to_db(pdf_files, intro35_excel_file, meta_type='intro', pages=4)"
   ]
  },
  {
   "cell_type": "code",
   "execution_count": 14,
   "metadata": {},
   "outputs": [],
   "source": [
    "abstract_docs = get_column_from_db(excel_file, 'abstract')"
   ]
  },
  {
   "cell_type": "code",
   "execution_count": 50,
   "metadata": {},
   "outputs": [
    {
     "name": "stderr",
     "output_type": "stream",
     "text": [
      "Using embedded DuckDB with persistence: data will be stored in: data/db/vector/huggingface_index_all\n"
     ]
    }
   ],
   "source": [
    "create_db(abstract_docs,embedding_function,collection_name_abstract,persist_directory)\n"
   ]
  },
  {
   "cell_type": "code",
   "execution_count": 14,
   "metadata": {},
   "outputs": [],
   "source": [
    "# dict = get_metadata_from_db(excel_file)"
   ]
  },
  {
   "cell_type": "markdown",
   "metadata": {},
   "source": [
    "## Query"
   ]
  },
  {
   "cell_type": "markdown",
   "metadata": {},
   "source": [
    "### 标题+润色 embedding abstract, keywords, title 匹配相似文章，结构或是语言润色"
   ]
  },
  {
   "cell_type": "code",
   "execution_count": 15,
   "metadata": {},
   "outputs": [],
   "source": [
    "my_abstract = \"This paper believes that voters often follow the peak-end rule according to the theory of behavioral economics when they make voting decisions. However, at present, there is no relevant research on the relationship between economic voting and peak-end rule. This paper discusses voters’ decision process of using peak-end rule with a cross-nation panel data including 595 national elections in 70 countries from 1960 - 2020. The results show that voters do follow the peak-end rule. The average of highest annual GDP growth rate in the term and the GDP growth rate on final year before the election have positive impact on the vote share of the incumbent party. This paper also finds that voters with lower education level rely more on the peak-end rule. To solve the endogenous problems, this paper introduces an instrumental variable strategy. We introduce the global oil price and the federal fund rate as instrumental variables. \"\n",
    "my_title = \"\"\n",
    "my_keywords = \"\""
   ]
  },
  {
   "cell_type": "code",
   "execution_count": 16,
   "metadata": {},
   "outputs": [
    {
     "name": "stderr",
     "output_type": "stream",
     "text": [
      "Using embedded DuckDB with persistence: data will be stored in: data/db/vector/huggingface_index_all\n"
     ]
    }
   ],
   "source": [
    "similar_abstracts_docs = get_similar_docs(my_abstract, 5, embedding_function, collection_name_abstract, persist_directory)"
   ]
  },
  {
   "cell_type": "code",
   "execution_count": 17,
   "metadata": {},
   "outputs": [],
   "source": [
    "abstracts_output = get_chain_output(my_abstract,similar_abstracts_docs)"
   ]
  },
  {
   "cell_type": "code",
   "execution_count": 18,
   "metadata": {},
   "outputs": [],
   "source": [
    "filename_list = get_filename_list(abstracts_output, path)"
   ]
  },
  {
   "cell_type": "code",
   "execution_count": null,
   "metadata": {},
   "outputs": [],
   "source": [
    "# save_pdfs_to_db(filename_list, intro35_excel_file, is_Intro=True, pages=5)"
   ]
  },
  {
   "cell_type": "code",
   "execution_count": 10,
   "metadata": {},
   "outputs": [],
   "source": [
    "intros = get_metadata_from_db(intro35_excel_file)"
   ]
  },
  {
   "cell_type": "code",
   "execution_count": 11,
   "metadata": {},
   "outputs": [],
   "source": [
    "polish = get_polish_intro('', intros[:3], words_limit=600, temperature=0)"
   ]
  },
  {
   "cell_type": "code",
   "execution_count": 12,
   "metadata": {},
   "outputs": [
    {
     "data": {
      "text/plain": [
       "'Introduction:\\n\\nEconomics is a social science that studies how individuals, businesses, and governments allocate resources to satisfy their needs and wants. It is a field that has been around for centuries and has evolved over time to become one of the most important disciplines in the world. The Journal of Economic Literature is a publication that aims to provide a comprehensive overview of the latest research in economics. In this journal, readers can find articles on a wide range of topics, including macroeconomics, microeconomics, international trade, finance, and more.\\n\\nOne of the most interesting aspects of economics is how it affects our daily lives. From the price of goods and services to the policies that governments implement, economics plays a crucial role in shaping our world. In this journal, we aim to explore the latest research in economics and how it impacts our lives.\\n\\nOne of the articles in this journal explores the value of voting rights. The authors conducted an experiment to measure the values that people assign to their voting rights. The results were surprising, as most participants did not want to sell their voting rights, even at high prices. This article sheds light on why people vote and the importance they place on their right to vote.\\n\\nAnother article in this journal examines the impact of economic growth on the support for extreme political parties in western democracies. The authors argue that the growth rate, but not the level of aggregate income, affects the support for extremism. They develop a game-theoretic model that analyzes the uncertainty effect of extreme political parties on future income distribution. The empirical analysis shows a significant negative effect of real per capita GDP growth on the support for extreme right-wing parties.\\n\\nFinally, this journal also includes an article that explores the impact of primary election rules on voting behavior and election outcomes. The authors examine the various primary rules in different American states and how they impact the nomination process. They use experimental methods to investigate strategic voting in primary elections and how it affects the outcome of the general election.\\n\\nIn conclusion, the Journal of Economic Literature provides a comprehensive overview of the latest research in economics. The articles in this journal explore a wide range of topics and shed light on how economics impacts our daily lives. We hope that this journal will be a valuable resource for economists, policymakers, and anyone interested in understanding the world around us.'"
      ]
     },
     "execution_count": 12,
     "metadata": {},
     "output_type": "execute_result"
    }
   ],
   "source": [
    "polish"
   ]
  },
  {
   "cell_type": "markdown",
   "metadata": {},
   "source": [
    "### 匹配"
   ]
  },
  {
   "cell_type": "code",
   "execution_count": 10,
   "metadata": {},
   "outputs": [],
   "source": [
    "query = \"However, the China's cadre evaluation system is different from the voting system in the Western countries\""
   ]
  },
  {
   "cell_type": "code",
   "execution_count": 11,
   "metadata": {
    "scrolled": true
   },
   "outputs": [
    {
     "name": "stderr",
     "output_type": "stream",
     "text": [
      "Using embedded DuckDB with persistence: data will be stored in: data/db/vector/huggingface_index2\n"
     ]
    }
   ],
   "source": [
    "similar_docs = get_similar_docs(query, 5, embedding_function, collection_name, persist_directory)"
   ]
  },
  {
   "cell_type": "code",
   "execution_count": 12,
   "metadata": {},
   "outputs": [],
   "source": [
    "output = get_chain_output(query,similar_docs)"
   ]
  },
  {
   "cell_type": "code",
   "execution_count": 13,
   "metadata": {},
   "outputs": [
    {
     "name": "stdout",
     "output_type": "stream",
     "text": [
      "No result was found, Using embedding searching strategy!!!\n",
      "The 0 sentence\n",
      "Sentence: Empirically, the literature linking China’s cadre eval- uation system and growth produces highly ambiguous and problematic results\n",
      "Source:{'author': 'VICTOR SHIH and CHRISTOPHER ADOLPH and MINGXING LIU', 'year': '2012', 'title': 'Getting Ahead in the Communist Party: Explaining the Advancement of Central Committee Members in China', 'journal': 'American Political Science Review'}\n",
      "Score:0.6213207978549135\n",
      "========.\n",
      "========.\n",
      "The 1 sentence\n",
      "Sentence: After the founding of the People’s Republic of China, the CCP introduced formal methods of evaluating cadres, which were formally linked to their promotion\n",
      "Source:{'author': 'VICTOR SHIH and CHRISTOPHER ADOLPH and MINGXING LIU', 'year': '2012', 'title': 'Getting Ahead in the Communist Party: Explaining the Advancement of Central Committee Members in China', 'journal': 'American Political Science Review'}\n",
      "Score:0.6769256411963147\n",
      "========.\n",
      "========.\n",
      "The 2 sentence\n",
      "Sentence: In addition to the quantitative ﬁndings, a larger qual- itative literature on the evolution of the cadre eval- uation system also seems to support the view of a performance-based elite promotion system in China\n",
      "Source:{'author': 'VICTOR SHIH and CHRISTOPHER ADOLPH and MINGXING LIU', 'year': '2012', 'title': 'Getting Ahead in the Communist Party: Explaining the Advancement of Central Committee Members in China', 'journal': 'American Political Science Review'}\n",
      "Score:0.7124961373445131\n",
      "========.\n",
      "========.\n"
     ]
    }
   ],
   "source": [
    "final_list = run_text_match(output,query,similar_docs, embedding_function)"
   ]
  },
  {
   "cell_type": "code",
   "execution_count": null,
   "metadata": {},
   "outputs": [],
   "source": []
  }
 ],
 "metadata": {
  "kernelspec": {
   "display_name": "Python 3 (ipykernel)",
   "language": "python",
   "name": "python3"
  },
  "language_info": {
   "codemirror_mode": {
    "name": "ipython",
    "version": 3
   },
   "file_extension": ".py",
   "mimetype": "text/x-python",
   "name": "python",
   "nbconvert_exporter": "python",
   "pygments_lexer": "ipython3",
   "version": "3.8.13"
  }
 },
 "nbformat": 4,
 "nbformat_minor": 2
}
