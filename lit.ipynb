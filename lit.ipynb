{
 "cells": [
  {
   "cell_type": "code",
   "execution_count": 1,
   "metadata": {},
   "outputs": [],
   "source": [
    "# %run packages.ipynb"
   ]
  },
  {
   "cell_type": "code",
   "execution_count": 1,
   "metadata": {},
   "outputs": [],
   "source": [
    "from pdf_files import get_fullpath_of_pdf_files"
   ]
  },
  {
   "cell_type": "code",
   "execution_count": 2,
   "metadata": {},
   "outputs": [],
   "source": [
    "from pdf_documents import get_pdf_documents"
   ]
  },
  {
   "cell_type": "code",
   "execution_count": 3,
   "metadata": {},
   "outputs": [],
   "source": [
    "from document_util import get_split_documents"
   ]
  },
  {
   "cell_type": "code",
   "execution_count": 4,
   "metadata": {},
   "outputs": [],
   "source": [
    "from embedding_function import get_embedding_function"
   ]
  },
  {
   "cell_type": "code",
   "execution_count": 5,
   "metadata": {},
   "outputs": [],
   "source": [
    "from chroma_db import create_db, get_similar_docs"
   ]
  },
  {
   "cell_type": "code",
   "execution_count": 6,
   "metadata": {},
   "outputs": [],
   "source": [
    "from chain import get_chain_output"
   ]
  },
  {
   "cell_type": "code",
   "execution_count": 7,
   "metadata": {},
   "outputs": [],
   "source": [
    "from match import run_text_match"
   ]
  },
  {
   "cell_type": "code",
   "execution_count": 8,
   "metadata": {},
   "outputs": [],
   "source": [
    "from pdf_retrieval import save_pdfs_to_db, get_metadata_from_db, get_column_from_db, get_filename_list,get_polish_intro"
   ]
  },
  {
   "cell_type": "code",
   "execution_count": 9,
   "metadata": {},
   "outputs": [],
   "source": [
    "# path = \"./data/docs/literature1\" # 1 good \n",
    "# path = \"./data/docs/literature6\" # 6 good \n",
    "# path = \"./data/docs/literature9\" # 9 good\n",
    "path = \"./data/docs/literature\"  # all\n",
    "\n",
    "chunk_size=1500\n",
    "chunk_overlap=100\n",
    "persist_directory = 'data/db/vector/huggingface_index_all'\n",
    "collection_name = 'paper_index'\n",
    "collection_name_abstract = 'abstract_index'\n",
    "excel_file = 'data/db/repo.xlsx'\n",
    "intro35_excel_file = 'data/db/repo_intro_35.xlsx'\n",
    "intro4_excel_file = 'data/db/repo_intro_4.xlsx'"
   ]
  },
  {
   "cell_type": "code",
   "execution_count": 13,
   "metadata": {},
   "outputs": [],
   "source": [
    "embedding_function = get_embedding_function()"
   ]
  },
  {
   "cell_type": "markdown",
   "metadata": {},
   "source": [
    "### The following 4 lines only need to be run once (after the pdf is loaded for the first time)"
   ]
  },
  {
   "cell_type": "code",
   "execution_count": 24,
   "metadata": {},
   "outputs": [],
   "source": [
    "pdf_files = get_fullpath_of_pdf_files(path)"
   ]
  },
  {
   "cell_type": "code",
   "execution_count": 25,
   "metadata": {
    "scrolled": false
   },
   "outputs": [],
   "source": [
    "pdf_docs = get_pdf_documents(pdf_files)"
   ]
  },
  {
   "cell_type": "code",
   "execution_count": 37,
   "metadata": {},
   "outputs": [],
   "source": [
    "split_docs = get_split_documents(pdf_docs, chunk_size, chunk_overlap)"
   ]
  },
  {
   "cell_type": "code",
   "execution_count": null,
   "metadata": {},
   "outputs": [],
   "source": [
    "create_db(split_docs,embedding_function,collection_name,persist_directory)"
   ]
  },
  {
   "cell_type": "markdown",
   "metadata": {},
   "source": [
    "### 生成标题+润色 vector DB"
   ]
  },
  {
   "cell_type": "code",
   "execution_count": 43,
   "metadata": {},
   "outputs": [
    {
     "name": "stdout",
     "output_type": "stream",
     "text": [
      "get meta from LLM ./data/docs/abstracts/Political extremism and economic activity.pdf\n",
      "Data append to  data/db/repo.xlsx\n",
      "get meta from LLM ./data/docs/abstracts/Economic growth and political extremism.pdf\n",
      "Data append to  data/db/repo.xlsx\n"
     ]
    }
   ],
   "source": [
    "save_pdfs_to_db(pdf_files, excel_file, is_Intro=False, pages=1)"
   ]
  },
  {
   "cell_type": "code",
   "execution_count": 14,
   "metadata": {},
   "outputs": [],
   "source": [
    "abstract_docs = get_column_from_db(excel_file, 'abstract')"
   ]
  },
  {
   "cell_type": "code",
   "execution_count": 50,
   "metadata": {},
   "outputs": [
    {
     "name": "stderr",
     "output_type": "stream",
     "text": [
      "Using embedded DuckDB with persistence: data will be stored in: data/db/vector/huggingface_index_all\n"
     ]
    }
   ],
   "source": [
    "create_db(abstract_docs,embedding_function,collection_name_abstract,persist_directory)\n"
   ]
  },
  {
   "cell_type": "code",
   "execution_count": 14,
   "metadata": {},
   "outputs": [],
   "source": [
    "# dict = get_metadata_from_db(excel_file)"
   ]
  },
  {
   "cell_type": "markdown",
   "metadata": {},
   "source": [
    "## Query"
   ]
  },
  {
   "cell_type": "markdown",
   "metadata": {},
   "source": [
    "### 标题+润色 embedding abstract, keywords, title 匹配相似文章，结构或是语言润色"
   ]
  },
  {
   "cell_type": "code",
   "execution_count": 15,
   "metadata": {},
   "outputs": [],
   "source": [
    "my_abstract = \"This paper believes that voters often follow the peak-end rule according to the theory of behavioral economics when they make voting decisions. However, at present, there is no relevant research on the relationship between economic voting and peak-end rule. This paper discusses voters’ decision process of using peak-end rule with a cross-nation panel data including 595 national elections in 70 countries from 1960 - 2020. The results show that voters do follow the peak-end rule. The average of highest annual GDP growth rate in the term and the GDP growth rate on final year before the election have positive impact on the vote share of the incumbent party. This paper also finds that voters with lower education level rely more on the peak-end rule. To solve the endogenous problems, this paper introduces an instrumental variable strategy. We introduce the global oil price and the federal fund rate as instrumental variables. \"\n",
    "my_title = \"\"\n",
    "my_keywords = \"\""
   ]
  },
  {
   "cell_type": "code",
   "execution_count": 16,
   "metadata": {},
   "outputs": [
    {
     "name": "stderr",
     "output_type": "stream",
     "text": [
      "Using embedded DuckDB with persistence: data will be stored in: data/db/vector/huggingface_index_all\n"
     ]
    }
   ],
   "source": [
    "similar_abstracts_docs = get_similar_docs(my_abstract, 5, embedding_function, collection_name_abstract, persist_directory)"
   ]
  },
  {
   "cell_type": "code",
   "execution_count": 17,
   "metadata": {},
   "outputs": [],
   "source": [
    "abstracts_output = get_chain_output(my_abstract,similar_abstracts_docs)"
   ]
  },
  {
   "cell_type": "code",
   "execution_count": 18,
   "metadata": {},
   "outputs": [],
   "source": [
    "filename_list = get_filename_list(abstracts_output, path)"
   ]
  },
  {
   "cell_type": "code",
   "execution_count": null,
   "metadata": {},
   "outputs": [],
   "source": [
    "# save_pdfs_to_db(filename_list, intro_excel_file, is_Intro=True, pages=2)"
   ]
  },
  {
   "cell_type": "code",
   "execution_count": 10,
   "metadata": {},
   "outputs": [],
   "source": [
    "intros = get_metadata_from_db(intro35_excel_file)"
   ]
  },
  {
   "cell_type": "code",
   "execution_count": null,
   "metadata": {},
   "outputs": [],
   "source": [
    "polish = get_polish_intro('', intros[:3], words_limit=600, temperature=0)"
   ]
  },
  {
   "cell_type": "code",
   "execution_count": 12,
   "metadata": {},
   "outputs": [
    {
     "data": {
      "text/plain": [
       "'The three sample introductions provided shed light on different aspects of political behavior and its consequences. The first sample explores the paradox of why people vote despite the low probability of their vote being decisive. The second sample delves into the impact of primary election rules on voting behavior and election outcomes. The third sample investigates the relationship between economic growth and the support for extreme political parties in western democracies. These studies highlight the complexity of political decision-making and the importance of understanding the underlying motivations and incentives that drive it. In this Journal of Economic Literature, we aim to contribute to this understanding by presenting a collection of articles that examine various aspects of political behavior and its economic implications. Through rigorous empirical and theoretical analyses, our contributors shed light on the factors that shape political preferences, the consequences of political decisions, and the mechanisms that drive political change. We hope that this collection will provide valuable insights for scholars, policymakers, and citizens alike, and contribute to a better understanding of the complex interplay between politics and economics.'"
      ]
     },
     "execution_count": 12,
     "metadata": {},
     "output_type": "execute_result"
    }
   ],
   "source": [
    "polish"
   ]
  },
  {
   "cell_type": "markdown",
   "metadata": {},
   "source": [
    "### 匹配"
   ]
  },
  {
   "cell_type": "code",
   "execution_count": 10,
   "metadata": {},
   "outputs": [],
   "source": [
    "query = \"However, the China's cadre evaluation system is different from the voting system in the Western countries\""
   ]
  },
  {
   "cell_type": "code",
   "execution_count": 11,
   "metadata": {
    "scrolled": true
   },
   "outputs": [
    {
     "name": "stderr",
     "output_type": "stream",
     "text": [
      "Using embedded DuckDB with persistence: data will be stored in: data/db/vector/huggingface_index2\n"
     ]
    }
   ],
   "source": [
    "similar_docs = get_similar_docs(query, 5, embedding_function, collection_name, persist_directory)"
   ]
  },
  {
   "cell_type": "code",
   "execution_count": 12,
   "metadata": {},
   "outputs": [],
   "source": [
    "output = get_chain_output(query,similar_docs)"
   ]
  },
  {
   "cell_type": "code",
   "execution_count": 13,
   "metadata": {},
   "outputs": [
    {
     "name": "stdout",
     "output_type": "stream",
     "text": [
      "No result was found, Using embedding searching strategy!!!\n",
      "The 0 sentence\n",
      "Sentence: Empirically, the literature linking China’s cadre eval- uation system and growth produces highly ambiguous and problematic results\n",
      "Source:{'author': 'VICTOR SHIH and CHRISTOPHER ADOLPH and MINGXING LIU', 'year': '2012', 'title': 'Getting Ahead in the Communist Party: Explaining the Advancement of Central Committee Members in China', 'journal': 'American Political Science Review'}\n",
      "Score:0.6213207978549135\n",
      "========.\n",
      "========.\n",
      "The 1 sentence\n",
      "Sentence: After the founding of the People’s Republic of China, the CCP introduced formal methods of evaluating cadres, which were formally linked to their promotion\n",
      "Source:{'author': 'VICTOR SHIH and CHRISTOPHER ADOLPH and MINGXING LIU', 'year': '2012', 'title': 'Getting Ahead in the Communist Party: Explaining the Advancement of Central Committee Members in China', 'journal': 'American Political Science Review'}\n",
      "Score:0.6769256411963147\n",
      "========.\n",
      "========.\n",
      "The 2 sentence\n",
      "Sentence: In addition to the quantitative ﬁndings, a larger qual- itative literature on the evolution of the cadre eval- uation system also seems to support the view of a performance-based elite promotion system in China\n",
      "Source:{'author': 'VICTOR SHIH and CHRISTOPHER ADOLPH and MINGXING LIU', 'year': '2012', 'title': 'Getting Ahead in the Communist Party: Explaining the Advancement of Central Committee Members in China', 'journal': 'American Political Science Review'}\n",
      "Score:0.7124961373445131\n",
      "========.\n",
      "========.\n"
     ]
    }
   ],
   "source": [
    "final_list = run_text_match(output,query,similar_docs, embedding_function)"
   ]
  },
  {
   "cell_type": "code",
   "execution_count": null,
   "metadata": {},
   "outputs": [],
   "source": []
  }
 ],
 "metadata": {
  "kernelspec": {
   "display_name": "Python 3 (ipykernel)",
   "language": "python",
   "name": "python3"
  },
  "language_info": {
   "codemirror_mode": {
    "name": "ipython",
    "version": 3
   },
   "file_extension": ".py",
   "mimetype": "text/x-python",
   "name": "python",
   "nbconvert_exporter": "python",
   "pygments_lexer": "ipython3",
   "version": "3.8.13"
  }
 },
 "nbformat": 4,
 "nbformat_minor": 2
}
