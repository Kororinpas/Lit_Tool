{
 "cells": [
  {
   "cell_type": "code",
   "execution_count": 2,
   "id": "8090f70e-3110-4b30-bccb-904697becdac",
   "metadata": {
    "tags": []
   },
   "outputs": [],
   "source": [
    "import openai\n",
    "proxy = {\n",
    "'http': 'http://localhost:7890',\n",
    "'https': 'http://localhost:7890'\n",
    "}\n",
    "\n",
    "openai.proxy = proxy;"
   ]
  },
  {
   "cell_type": "code",
   "execution_count": 3,
   "id": "acfda3c1-10b7-465b-83af-c05edc5bf5bb",
   "metadata": {
    "tags": []
   },
   "outputs": [],
   "source": [
    "from langchain.chat_models import ChatOpenAI"
   ]
  },
  {
   "cell_type": "code",
   "execution_count": 4,
   "id": "581727fd",
   "metadata": {
    "tags": []
   },
   "outputs": [],
   "source": [
    "llm = ChatOpenAI(model_name=\"gpt-3.5-turbo\", temperature=1.0)"
   ]
  },
  {
   "cell_type": "code",
   "execution_count": 5,
   "id": "8140aa14-2be4-4899-8bef-e9210cf89346",
   "metadata": {
    "tags": []
   },
   "outputs": [],
   "source": [
    "import asyncio\n",
    "from langchain.document_loaders import PyMuPDFLoader\n",
    "import os\n",
    "from tqdm.notebook import tqdm"
   ]
  },
  {
   "cell_type": "code",
   "execution_count": 6,
   "id": "3db0579b-0cf7-463e-b651-27cb8e521f52",
   "metadata": {
    "tags": []
   },
   "outputs": [],
   "source": [
    "# !pip install -q chromadb"
   ]
  },
  {
   "cell_type": "code",
   "execution_count": 7,
   "id": "e65d044f-b392-4cb6-9343-597f717c593a",
   "metadata": {
    "tags": []
   },
   "outputs": [],
   "source": [
    "import chromadb\n",
    "from langchain.vectorstores import Chroma\n",
    "from langchain.embeddings import OpenAIEmbeddings"
   ]
  },
  {
   "cell_type": "markdown",
   "id": "b1c203e9-7bbc-4061-9b58-369919507ec2",
   "metadata": {},
   "source": [
    "- 使用PyMuPDFLoader模块加载文件内容。\n",
    "- 使用OpenAIEmbeddings模块为每个句子计算向量表示。\n",
    "- 使用Chroma模块将文档转换为向量空间模型，并将其保存在磁盘上。\n",
    "- 使用提供的ChatOpenAI对象提取文档中的贡献链。\n",
    "- 将当前文件的结果添加到结果列表中。"
   ]
  },
  {
   "cell_type": "code",
   "execution_count": 8,
   "id": "171d1954-57c3-4346-937a-65093b87c12a",
   "metadata": {
    "tags": []
   },
   "outputs": [],
   "source": [
    "import asyncio"
   ]
  },
  {
   "cell_type": "code",
   "execution_count": 9,
   "id": "98e82d00",
   "metadata": {
    "tags": []
   },
   "outputs": [],
   "source": [
    "# 定义一个函数，用于从给定文件路径中加载文件并提取相关信息\n",
    "def load_file_and_extract(file_path):\n",
    "    # 创建一个ChatOpenAI对象，model_name参数指定使用的模型名称，temperature参数指定生成文本时使用的温度值\n",
    "    llm = ChatOpenAI(model_name=\"gpt-3.5-turbo\", temperature=1.0)\n",
    "    pwd = os.getcwd()\n",
    "    # 获取文件路径下所有文件的文件名列表\n",
    "    file_list = os.listdir(file_path)\n",
    "    # 切换当前工作目录到文件路径下\n",
    "    os.chdir(file_path)\n",
    "    # 创建一个列表，用于保存每个文件的结果\n",
    "    contri = []\n",
    "    # 遍历文件列表，对每个文件进行处理\n",
    "    for file in tqdm(file_list):\n",
    "        # 加载PDF文件内容\n",
    "        docs = PyMuPDFLoader(file).load()\n",
    "        # 创建一个OpenAIEmbeddings对象，用于计算每个句子的向量表示\n",
    "        embeddings = OpenAIEmbeddings()\n",
    "        # 创建一个Chroma对象，用于将文档转换为向量空间模型，并存储在磁盘上\n",
    "        vectorstore = Chroma.from_documents(docs, embeddings,collection_name=file.split('.')[0],persist_directory ='contribution')\n",
    "        vectorstore.persist()\n",
    "        # 使用提供的ChatOpenAI对象提取文档中的贡献链\n",
    "        result = extract_contribution_chain(vectorstore,llm)\n",
    "        # 将当前文件的结果添加到结果列表中\n",
    "        contri.append(result)\n",
    "    os.chdir(pwd)\n",
    "    # 返回所有文件的结果\n",
    "    return contri"
   ]
  },
  {
   "cell_type": "markdown",
   "id": "cdf7cf10-1c69-42c1-8886-e82daf651ef3",
   "metadata": {},
   "source": [
    "这个函数的作用是从给定的向量空间模型中提取贡献链。具体来说，函数首先定义了一个查询语句，然后在向量空间模型中搜索与该查询语句相似的文档。接着，函数加载一个预定义的问题回答链，该链基于特定类型的贡献链，使用给定的预训练语言模型。最后，函数调用该问题回答链的run()方法，并指定输入文档和问题，以执行实际提取操作。最终，函数返回提取结果。\n",
    "\n",
    "需要注意的是，该函数依赖于langchain.chains.question_answering模块中的load_qa_chain()函数。该函数将会加载一个已经训练好的基于预训练语言模型的问题回答链，进而对给定的文档和问题进行提取操作。"
   ]
  },
  {
   "cell_type": "code",
   "execution_count": 10,
   "id": "601a59d9-3781-4e98-8f8e-ced78d65ebcb",
   "metadata": {
    "tags": []
   },
   "outputs": [],
   "source": [
    "# 定义一个函数，用于从给定文件路径中加载文件并提取相关信息\n",
    "def load_file_and_extract(file_path):\n",
    "    # 创建一个ChatOpenAI对象，model_name参数指定使用的模型名称，temperature参数指定生成文本时使用的温度值\n",
    "    llm = ChatOpenAI(model_name=\"gpt-3.5-turbo\", temperature=1.0)\n",
    "    pwd = os.getcwd()\n",
    "    # 获取文件路径下所有文件的文件名列表\n",
    "    file_list = os.listdir(file_path)\n",
    "    # 切换当前工作目录到文件路径下\n",
    "    os.chdir(file_path)\n",
    "    # 创建一个列表，用于保存每个文件的结果\n",
    "    contri = []\n",
    "    # 遍历文件列表，对每个文件进行处理\n",
    "    for file in tqdm(file_list):\n",
    "        # 加载PDF文件内容\n",
    "        docs = PyMuPDFLoader(file).load()\n",
    "        # 创建一个OpenAIEmbeddings对象，用于计算每个句子的向量表示\n",
    "        embeddings = OpenAIEmbeddings()\n",
    "        # 创建一个Chroma对象，用于将文档转换为向量空间模型，并存储在磁盘上\n",
    "        vectorstore = Chroma.from_documents(docs, embeddings,collection_name=file.split('.')[0],persist_directory ='contribution')\n",
    "        vectorstore.persist()\n",
    "        # 使用提供的ChatOpenAI对象提取文档中的贡献链\n",
    "        result = extract_contribution_chain_old(vectorstore,llm)\n",
    "        # 将当前文件的结果添加到结果列表中\n",
    "        contri.append(result)\n",
    "    os.chdir(pwd)\n",
    "    # 返回所有文件的结果\n",
    "    return contri"
   ]
  },
  {
   "cell_type": "code",
   "execution_count": 11,
   "id": "dd28ac8d-e30e-4239-9ede-481cf3fcf9b7",
   "metadata": {
    "tags": []
   },
   "outputs": [],
   "source": [
    "# 导入函数load_qa_chain，用于加载问题回答链\n",
    "from langchain.chains.question_answering import load_qa_chain"
   ]
  },
  {
   "cell_type": "code",
   "execution_count": 12,
   "id": "bf82ae04",
   "metadata": {
    "tags": []
   },
   "outputs": [],
   "source": [
    "# 定义一个函数，用于从给定向量空间模型中提取贡献链\n",
    "def extract_contribution_chain_old(vectorstore,llm):\n",
    "    # 定义一个查询语句\n",
    "    query = \"What are the main findings of this article, and what were its key points of innovation? must use less than 100 words!\"\n",
    "    \n",
    "    # 在向量空间模型中搜索与查询语句相似的文档\n",
    "    doc =  vectorstore.similarity_search(query, 2, include_metadata=True)\n",
    "    \n",
    "    # 加载问题回答链，llm参数指定使用的预训练语言模型，chain_type参数指定使用的贡献链类型\n",
    "    chain = load_qa_chain(llm, chain_type=\"stuff\")\n",
    "    \n",
    "    # 执行提取操作，input_documents参数指定输入的文档，question参数指定要问的问题\n",
    "    resp = chain.run(input_documents=doc, question=query)\n",
    "    \n",
    "    # 返回提取结果\n",
    "    return resp"
   ]
  },
  {
   "cell_type": "code",
   "execution_count": 13,
   "id": "0f926453-8a70-4dea-98f3-f9490deb0b08",
   "metadata": {
    "tags": []
   },
   "outputs": [],
   "source": [
    "async def async_load_file_and_extract(file_path):\n",
    "    llm = ChatOpenAI(model_name=\"gpt-3.5-turbo\", temperature=1.0)\n",
    "    pwd = os.getcwd()\n",
    "    file_list = os.listdir(file_path)\n",
    "    os.chdir(file_path)\n",
    "    contri = []\n",
    "    tasks = []\n",
    "    for file in file_list:\n",
    "        docs = PyMuPDFLoader(file).load()\n",
    "        embeddings = OpenAIEmbeddings()\n",
    "        vectorstore = Chroma.from_documents(docs, embeddings,collection_name=file.split('.')[0],persist_directory ='contribution')\n",
    "        vectorstore.persist()\n",
    "        tasks.append(extract_contribution_chain(vectorstore,llm))\n",
    "    os.chdir(pwd)\n",
    "    results = await asyncio.gather(*tasks)\n",
    "    return results\n",
    "\n",
    "async def extract_contribution_chain(vectorstore,llm):\n",
    "    query = \"What are the main findings of this article, and what were its key points of innovation? must use less than 100 words!\"\n",
    "    doc =  vectorstore.similarity_search(query, 2, include_metadata=True)\n",
    "    chain = load_qa_chain(llm, chain_type=\"stuff\")\n",
    "    resp = await chain.arun(input_documents=doc, question=query)\n",
    "    return resp"
   ]
  },
  {
   "cell_type": "code",
   "execution_count": 14,
   "id": "979e3e73-f29b-4751-91a5-c75f96897f0a",
   "metadata": {
    "tags": []
   },
   "outputs": [
    {
     "data": {
      "text/plain": [
       "'F:\\\\notebook\\\\langchain-proj'"
      ]
     },
     "execution_count": 14,
     "metadata": {},
     "output_type": "execute_result"
    }
   ],
   "source": [
    "os.getcwd()"
   ]
  },
  {
   "cell_type": "code",
   "execution_count": 36,
   "id": "8d3b59cc-2fdd-4cc1-9dba-1429ffd39ede",
   "metadata": {
    "tags": []
   },
   "outputs": [
    {
     "name": "stderr",
     "output_type": "stream",
     "text": [
      "系统找不到指定的路径。\n",
      "系统找不到指定的路径。\n"
     ]
    }
   ],
   "source": [
    "!rmdir /s /q  \"F:\\\\notebook\\\\langchain-proj\\\\pdf̧\\\\contribution\"\n",
    "!rmdir /s /q  \"F:\\\\notebook\\\\langchain-proj\\\\pdf̧\\\\.chroma\""
   ]
  },
  {
   "cell_type": "code",
   "execution_count": 15,
   "id": "70681806-b28d-4da5-a742-412910505345",
   "metadata": {},
   "outputs": [],
   "source": [
    "import time"
   ]
  },
  {
   "cell_type": "markdown",
   "id": "95caacd2-d209-4c01-92ad-2dbacfcc4353",
   "metadata": {},
   "source": [
    "同步模式"
   ]
  },
  {
   "cell_type": "code",
   "execution_count": 17,
   "id": "869e4c9e",
   "metadata": {
    "scrolled": true,
    "tags": []
   },
   "outputs": [
    {
     "data": {
      "application/json": {
       "ascii": false,
       "bar_format": null,
       "colour": null,
       "elapsed": 0.03654217720031738,
       "initial": 0,
       "n": 0,
       "ncols": null,
       "nrows": 31,
       "postfix": null,
       "prefix": "",
       "rate": null,
       "total": 10,
       "unit": "it",
       "unit_divisor": 1000,
       "unit_scale": false
      },
      "application/vnd.jupyter.widget-view+json": {
       "model_id": "5b821391a7d04cf18e0fb9ea2291322c",
       "version_major": 2,
       "version_minor": 0
      },
      "text/plain": [
       "  0%|          | 0/10 [00:00<?, ?it/s]"
      ]
     },
     "metadata": {},
     "output_type": "display_data"
    },
    {
     "name": "stderr",
     "output_type": "stream",
     "text": [
      "Using embedded DuckDB with persistence: data will be stored in: contribution\n",
      "Using embedded DuckDB with persistence: data will be stored in: contribution\n",
      "Using embedded DuckDB with persistence: data will be stored in: contribution\n",
      "Using embedded DuckDB with persistence: data will be stored in: contribution\n",
      "Using embedded DuckDB with persistence: data will be stored in: contribution\n",
      "Using embedded DuckDB with persistence: data will be stored in: contribution\n",
      "Using embedded DuckDB with persistence: data will be stored in: contribution\n",
      "Using embedded DuckDB with persistence: data will be stored in: contribution\n",
      "Using embedded DuckDB with persistence: data will be stored in: contribution\n",
      "Using embedded DuckDB with persistence: data will be stored in: contribution\n"
     ]
    }
   ],
   "source": [
    "s = time.perf_counter()\n",
    "# file_path = \"./pdf\"\n",
    "file_path = 'F:\\\\notebook\\\\langchain-proj\\\\pdf'\n",
    "resp = load_file_and_extract(file_path)\n",
    "elapsed = time.perf_counter() - s"
   ]
  },
  {
   "cell_type": "code",
   "execution_count": 18,
   "id": "d4e614fd-6679-4e06-b073-cc87fe2e57b8",
   "metadata": {
    "tags": []
   },
   "outputs": [
    {
     "data": {
      "text/plain": [
       "173.46237700000003"
      ]
     },
     "execution_count": 18,
     "metadata": {},
     "output_type": "execute_result"
    }
   ],
   "source": [
    "elapsed"
   ]
  },
  {
   "cell_type": "markdown",
   "id": "b576b5c2-eece-4251-bd43-27cab87e831b",
   "metadata": {},
   "source": [
    "异步模式"
   ]
  },
  {
   "cell_type": "code",
   "execution_count": 17,
   "id": "c05fd544",
   "metadata": {
    "tags": []
   },
   "outputs": [
    {
     "name": "stderr",
     "output_type": "stream",
     "text": [
      "Using embedded DuckDB with persistence: data will be stored in: contribution\n",
      "Using embedded DuckDB with persistence: data will be stored in: contribution\n",
      "Using embedded DuckDB with persistence: data will be stored in: contribution\n",
      "Using embedded DuckDB with persistence: data will be stored in: contribution\n",
      "Using embedded DuckDB with persistence: data will be stored in: contribution\n",
      "Using embedded DuckDB with persistence: data will be stored in: contribution\n",
      "Using embedded DuckDB with persistence: data will be stored in: contribution\n",
      "Using embedded DuckDB with persistence: data will be stored in: contribution\n",
      "Using embedded DuckDB with persistence: data will be stored in: contribution\n",
      "Using embedded DuckDB with persistence: data will be stored in: contribution\n"
     ]
    }
   ],
   "source": [
    "s = time.perf_counter()\n",
    "# If running this outside of Jupyter, use asyncio.run(generate_concurrently())\n",
    "# await generate_concurrently()\n",
    "\n",
    "# file_path = \"./pdf\" \n",
    "file_path = 'F:\\\\notebook\\\\langchain-proj\\\\pdf'\n",
    "\n",
    "# 如果在Jupyter之外运行,使用asyncio.run启动事件循环\n",
    "# asyncio.run(main())\n",
    "\n",
    "resp = await async_load_file_and_extract(file_path)\n",
    "# 使用resp获取结果\n",
    "elapsed = time.perf_counter() - s"
   ]
  },
  {
   "cell_type": "code",
   "execution_count": 18,
   "id": "77a7e2c4-6478-4520-9e34-5e5a421fbebc",
   "metadata": {
    "tags": []
   },
   "outputs": [
    {
     "data": {
      "text/plain": [
       "['This article examines how China\\'s \"rule of mandates\" governing system, characterized by authoritarian mandates from above combined with local level discretion, hinders efforts to detect corruption but also how it might be used to channel corruption into certain areas. The paper offers possible explanations for why corruption has not hindered economic development, as well as prescribing reforms to combat corruption that should \"engage the mandates system, not simply the legal system.\" It concludes by offering potential avenues for further research into the impact of the rule of mandates on corruption.',\n",
       " 'The article examines the impact of China\\'s political congresses on local officials\\' incentives to pursue short-term economic growth at the expense of environmental protection. Using industrial sulfur dioxide emissions as a measure of pollution, the authors find that the convening of political congresses is associated with a \"political pollution cycle,\" where officials prioritize economic growth over environmental protection. The authors also identify a shift in officials\\' incentives after the implementation of environmental regulations and emphasize the importance of considering political cycles in studying the effectiveness of environmental policy.',\n",
       " \"The article analyzes the political-business cycle in China, focusing on its impact on environmental regulations. The study uses annual PM2.5 data and finds evidence suggesting that the years leading to a prefecture party secretary's turnover are associated with relaxed environmental regulations and higher pollution levels. The study further suggests that local regulations are largely in the hands of local officials and that lessening regulatory enforcement lowers firms’ costs of production. The study's key point of innovation is that it shows how politics influences environmental regulations in an authoritarian regime that prioritizes economic growth over environmental protection.\",\n",
       " \"This article examines the incentives for local leaders in China to manipulate government spending in order to improve their prospects of political advancement. Using panel data, the study finds evidence of political budget cycles, with county leaders increasing government expenditures in the years they are most likely to be considered for promotion. The article's key innovation is exploring local political budget cycles in China in the absence of competitive elections, and the implications of these cycles for the regime's fiscal discipline and accountability.\",\n",
       " \"This article examines the role of political promotion incentives on water pollution at China's borders. Using ten cross-provincial river systems, the authors collect data from 499 monitoring stations from 2004 to 2010 and exploit a natural experiment set in China where the central government changed the local political promotion criteria, incentivizing local officials to reduce border pollution along specific criteria. They find evidence of pollution progress with respect to targeted criteria at province boundaries but no decrease in the concentration of heavy metal pollutants not targeted by the central government. Key innovation: using data on the economic geography of key industrial water polluters, exploring possible mechanisms.\",\n",
       " \"The study explores how Chinese Communist Party members rise to power and whether it's based on their performance in delivering economic outcomes. The authors test different variables, including educational background, ethnicity, performance, and factional ties, using a novel Bayesian model of rank. They conclude that factional ties had the strongest impact on party rank, while performance had almost no impact, refuting the claim that Chinese leaders advance based on yardstick competition. The study offers new insights into Chinese politics and the incentives that drive official behavior.\",\n",
       " \"The article analyzes China's developmental model and explains how three major institutional changes have driven local governments to a specific path of development. It proposes that local governments rely on land, instead of standard policy instruments like tax and subsidies, for subsidizing industrial parks and developing urban infrastructure. The key point of innovation is to offer revenue-starved governments a path for growth and development. This model shows that local governments could strengthen their control and develop effective policy instruments while leveraging urban infrastructure and real estate for industrial expansion.\",\n",
       " 'The aim of the article was to identify the main factors causing changes in fiscal balances. The study took a broad perspective in terms of time coverage, the span of countries involved, and explanatory variables. The main findings were that government debt, interest rates, election cycles, and stock market effects were significant factors affecting changes in fiscal balances. The study also highlighted the differences in fiscal policies across countries and the importance of considering a broad range of explanatory variables in fiscal policy analysis.',\n",
       " 'The study examines the effect of local pollution levels on the promotion of local officials in China. Using satellite data, it finds that less local pollution increases the chances of promotion for local leaders. This is a significant finding because it challenges the conventional wisdom that economic growth is the primary driver of promotions and brings attention to the role of environmental performance in the promotion process.',\n",
       " 'The article investigates the relationship between political opportunism and the capability of city officials in China, finding that more capable officials generate less of a political-business cycle than less capable officials. The paper suggests that the effectiveness of the political system in identifying and selecting capable officials is important for reducing opportunism. The study is innovative in using a rich dataset of city officials from 308 prefecture-level cities between 1994 and 201']"
      ]
     },
     "execution_count": 18,
     "metadata": {},
     "output_type": "execute_result"
    }
   ],
   "source": [
    "resp"
   ]
  },
  {
   "cell_type": "code",
   "execution_count": 19,
   "id": "bfca0105-78ed-423e-a1f2-4fbc26468164",
   "metadata": {
    "tags": []
   },
   "outputs": [
    {
     "data": {
      "text/plain": [
       "53.51185429999987"
      ]
     },
     "execution_count": 19,
     "metadata": {},
     "output_type": "execute_result"
    }
   ],
   "source": [
    "elapsed"
   ]
  },
  {
   "cell_type": "code",
   "execution_count": 20,
   "id": "6c0348f5-fd31-4678-9b06-07ae24d8ba85",
   "metadata": {
    "tags": []
   },
   "outputs": [],
   "source": [
    "import chromadb\n",
    "from langchain.vectorstores import Chroma\n",
    "from langchain.embeddings import OpenAIEmbeddings"
   ]
  },
  {
   "cell_type": "code",
   "execution_count": 21,
   "id": "6baf04ab",
   "metadata": {
    "tags": []
   },
   "outputs": [],
   "source": [
    "def search_for_similarity(my_con, lit_con,k):\n",
    "\n",
    "    embeddings = OpenAIEmbeddings()\n",
    "    vectorstore = Chroma.from_texts(lit_con, embeddings)\n",
    "    \n",
    "    doc =  vectorstore.similarity_search(my_con, k)\n",
    "    \n",
    "    doc = \"\\n\\n\\n\".join([element.page_content for element in doc])\n",
    "    \n",
    "    return doc"
   ]
  },
  {
   "cell_type": "code",
   "execution_count": 22,
   "id": "663de8c3",
   "metadata": {
    "tags": []
   },
   "outputs": [],
   "source": [
    "my_con =\"\"\"\n",
    "\n",
    "This paper tests whether local officials will engage in opportunistic behavior before the convening of the Provincial Communist Party Congress (PCPC), reducing the carbon emissions before this major political event. It aims at illustrating whether there is a political carbon emission cycle in China, showing lower carbon emissions before the PCPC and high carbon emissions after the PCPC. This is an important question, because the opportunistic behaviors in reducing carbon emissions will impede the long-term technological and structural adjustments in the CO2-emitting industry, so that the ‘Peak Carbon Dioxide Emission’ and ‘Carbon Neutral’ may not be realized in the future. We first calculate the carbon emissions in 283 prefecture-level cities from 2006 to 2019 in China through summing carbon emissions generated from direct energy consumption and indirect energy consumption. Then, we collect the convening date of the PCPC in each province and the local officials’ data, including the tenure, age, education and the political turnover year of the mayor and party secretaries in prefecture-level cities. Due to the strong exogeneity of the political cycle, we use Fixed-Effect model to conduct the empirical research. Our empirical analysis shows that the political carbon emissions cycle indeed exists in China, showing a decrease in carbon emissions before the PCPC and rise again after the PCPC. We also find the political carbon emission cycle is not belong to environmental political business cycle. Moreover, political business cycle and political carbon emission cycle co-exist in China at present, indicating carbon emissions reduction have already been a high priority target which is equal to the economic growth in cadre evaluation system. Finally, we find the local officials’ age have heterogeneous effect on the political carbon emission cycle and the political carbon emission cycle only emerge after 2010. These two results are strong evidence supporting the political carbon emission cycle is a result of local official’s opportunistic behavior rather than a natural fluctuation.\n",
    "\n",
    "\"\"\""
   ]
  },
  {
   "cell_type": "code",
   "execution_count": 23,
   "id": "d3af71a8",
   "metadata": {
    "tags": []
   },
   "outputs": [
    {
     "name": "stderr",
     "output_type": "stream",
     "text": [
      "Using embedded DuckDB without persistence: data will be transient\n"
     ]
    }
   ],
   "source": [
    "con_list = search_for_similarity(my_con, resp,5)"
   ]
  },
  {
   "cell_type": "code",
   "execution_count": 24,
   "id": "46c03a4b",
   "metadata": {
    "tags": []
   },
   "outputs": [
    {
     "data": {
      "text/plain": [
       "'The article examines the impact of China\\'s political congresses on local officials\\' incentives to pursue short-term economic growth at the expense of environmental protection. Using industrial sulfur dioxide emissions as a measure of pollution, the authors find that the convening of political congresses is associated with a \"political pollution cycle,\" where officials prioritize economic growth over environmental protection. The authors also identify a shift in officials\\' incentives after the implementation of environmental regulations and emphasize the importance of considering political cycles in studying the effectiveness of environmental policy.\\n\\n\\nThe article analyzes the political-business cycle in China, focusing on its impact on environmental regulations. The study uses annual PM2.5 data and finds evidence suggesting that the years leading to a prefecture party secretary\\'s turnover are associated with relaxed environmental regulations and higher pollution levels. The study further suggests that local regulations are largely in the hands of local officials and that lessening regulatory enforcement lowers firms’ costs of production. The study\\'s key point of innovation is that it shows how politics influences environmental regulations in an authoritarian regime that prioritizes economic growth over environmental protection.\\n\\n\\nThe article investigates the relationship between political opportunism and the capability of city officials in China, finding that more capable officials generate less of a political-business cycle than less capable officials. The paper suggests that the effectiveness of the political system in identifying and selecting capable officials is important for reducing opportunism. The study is innovative in using a rich dataset of city officials from 308 prefecture-level cities between 1994 and 201\\n\\n\\nThis article examines the incentives for local leaders in China to manipulate government spending in order to improve their prospects of political advancement. Using panel data, the study finds evidence of political budget cycles, with county leaders increasing government expenditures in the years they are most likely to be considered for promotion. The article\\'s key innovation is exploring local political budget cycles in China in the absence of competitive elections, and the implications of these cycles for the regime\\'s fiscal discipline and accountability.\\n\\n\\nThe study examines the effect of local pollution levels on the promotion of local officials in China. Using satellite data, it finds that less local pollution increases the chances of promotion for local leaders. This is a significant finding because it challenges the conventional wisdom that economic growth is the primary driver of promotions and brings attention to the role of environmental performance in the promotion process.'"
      ]
     },
     "execution_count": 24,
     "metadata": {},
     "output_type": "execute_result"
    }
   ],
   "source": [
    "con_list"
   ]
  },
  {
   "cell_type": "code",
   "execution_count": 25,
   "id": "2a76b72f",
   "metadata": {
    "tags": []
   },
   "outputs": [],
   "source": [
    "question_template = \"\"\"\n",
    "\n",
    "You are a helpful writing assistant in writing academic paper. \n",
    "\n",
    "Given the main finding of my paper and main finding of others' paper, you need to write the innovation part of my paper.\n",
    "\n",
    "Don't only repeat the finding of my paper when writing innovation part of my paper.\n",
    "\n",
    "You need to pay attention to the following three points:\n",
    "\n",
    "1.Discuss why the findings or research methods of my article are different from others', and why this difference is highly significant and innovative.\n",
    "\n",
    "2.Discuss why our research results are highly meaningful and the contributions they will make to the current academic community.\n",
    "\n",
    "3.Maintain clarity and logical coherence throughout the discussion, selectively emphasizing the significance of the research findings in the description, but exercising caution in the choice of words.\n",
    "\n",
    "===========\n",
    "The following are findings of my paper:\n",
    "\n",
    "{mine}\n",
    "===========\n",
    "\n",
    "The following are findings of others' paper:\n",
    "\n",
    "{others}\n",
    "\n",
    "\n",
    "\"\"\"\n",
    "\n",
    "from langchain.chains.question_answering import load_qa_chain\n",
    "from langchain import LLMChain\n",
    "from langchain.prompts import PromptTemplate\n",
    "\n",
    "PROMPT = PromptTemplate(template = question_template,\n",
    "                        input_variables=['mine','others'])\n",
    "\n",
    "llm_chain = LLMChain(llm=llm,prompt = PROMPT)"
   ]
  },
  {
   "cell_type": "code",
   "execution_count": 26,
   "id": "834f18f2",
   "metadata": {
    "tags": []
   },
   "outputs": [
    {
     "data": {
      "text/plain": [
       "\"Innovation:\\n\\nOur study makes significant contributions to the existing literature on the relationship between politics and the environment in China. Unlike previous studies that focused on the impact of political congresses or the political-business cycle on local pollution, our study investigates whether local officials engage in opportunistic behavior to reduce carbon emissions before the convening of the Provincial Communist Party Congress (PCPC), and whether this behavior hinders long-term technological and structural adjustments in the CO2-emitting industry. \\n\\nOur study reveals the existence of a political carbon emissions cycle which shows lower carbon emissions before the PCPC and high carbon emissions after the PCPC. This finding is highly significant and innovative as it sheds light on the role of local officials in opportunistic behavior, challenging the conventional wisdom that the political-business cycle is the only driving force in local pollution. This finding is particularly relevant as it highlights the need for the Chinese government to develop effective and sustainable environmental policies that do not sacrifice long-term environmental goals for short-term political gains.\\n\\nFurthermore, our study finds that the political carbon emission cycle is not a result of the environmental political business cycle, indicating that there is a separate political incentive for local officials to reduce carbon emissions before the PCPC. This finding suggests that carbon emissions reduction has become a high priority target that is included in the cadre evaluation system, indicating that the Chinese government is taking an active role in reducing environmental impact. \\n\\nOur study also reveals that the local officials’ age has a heterogeneous effect on the political carbon emission cycle and that the political carbon emission cycle only emerged after 2010. These findings provide strong evidence that the political carbon emission cycle is a result of local officials' opportunistic behavior rather than a natural fluctuation. This result sheds critical insights into the linkages between politics and the environment and is of particular relevance for future policymaking and environmental planning. Overall, our study contributes significant insight into the understanding of the political impact on environmental protection in China and provides important implications for future policy-making and environmental management.\""
      ]
     },
     "execution_count": 26,
     "metadata": {},
     "output_type": "execute_result"
    }
   ],
   "source": [
    "llm_chain.run({\"mine\":my_con,\"others\":con_list})"
   ]
  },
  {
   "cell_type": "code",
   "execution_count": 27,
   "id": "44c033d3",
   "metadata": {},
   "outputs": [],
   "source": [
    "diff_template = \"\"\"\n",
    "\n",
    "You are a helpful writing assistant in writing academic paper. \n",
    "\n",
    "Given the main finding of my paper and main finding of others' paper, compare my research findings and research methods with those of other articles one by one.\n",
    "\n",
    "Please write a discussion in detail on how my research methods and findings differ from those of other articles, and specifically, in what aspects these differences exist,and why these difference matters?\n",
    "\n",
    "Ensuring the word count is not less than 1000.\n",
    "\n",
    "===========\n",
    "The following are my paper:\n",
    "\n",
    "{mine}\n",
    "===========\n",
    "\n",
    "The following are others' article:\n",
    "\n",
    "{others}\n",
    "\n",
    "\n",
    "\"\"\"\n",
    "\n",
    "from langchain.chains.question_answering import load_qa_chain\n",
    "from langchain import LLMChain\n",
    "from langchain.prompts import PromptTemplate\n",
    "\n",
    "PROMPT = PromptTemplate(template = diff_template,\n",
    "                        input_variables=['mine','others'])\n",
    "\n",
    "llm_chain = LLMChain(llm=llm,prompt = PROMPT)"
   ]
  },
  {
   "cell_type": "code",
   "execution_count": 28,
   "id": "a8c86741-6e26-4950-8280-7708e379f136",
   "metadata": {
    "tags": []
   },
   "outputs": [
    {
     "data": {
      "text/plain": [
       "\"In comparison to the aforementioned articles, our study mainly focuses on the political carbon emission cycle in China. While two of the articles examined political pollution cycles and political business cycles, they did not specifically explore carbon emissions. Our study aimed at determining whether local officials in China engage in opportunistic behavior before the convening of the Provincial Communist Party Congress, reducing carbon emissions before this major political event. Moreover, our paper also aimed at illustrating whether carbon emissions exhibit a cycle preceding the PCPC, which could have detrimental effects on long-term technological and structural adjustments in CO2-emitting industries.\\n\\nIn terms of methodology, our study collected data on carbon emissions in 283 prefecture-level cities in China from 2006 to 2019 through summing carbon emissions generated from direct energy consumption and indirect energy consumption. We then collected the convening date of the PCPC in each province and the local officials’ data, including the tenure, age, education, and the political turnover year of the mayor and party secretaries in prefecture-level cities. The Fixed-Effect model was used to conduct the empirical research due to the strong exogeneity of the political cycle. In contrast, the articles utilized different methodologies such as using industrial sulfur dioxide emissions or annual PM2.5 data to measure pollution levels. Additionally, some articles employed panel data to examine local pollution levels, while others used satellite data to determine the relationship between pollution levels and promotions for local leaders.\\n\\nOur study's findings differ from those of the other articles in several aspects. Firstly, while the political business cycle was found to influence environmental regulations in China, our study revealed that the political carbon emission cycle is not associated with the environmental political business cycle. This means that carbon emissions are reduced before the PCPC is convened, not due to environmental concerns or regulations but due to political opportunism. Secondly, our study found that both the political business cycle and political carbon emission cycle coexist in China, indicating that carbon emissions reduction is a high priority target equivalent to the economic growth in cadre evaluation systems. Thirdly, our study found that the local officials' age had a heterogeneous effect on the political carbon emission cycle, whereas another article examined the effect of local pollution levels on the promotion of local officials in China. Finally, our study concluded that the political carbon emission cycle only emerged after 2010, which contrasts with the first article's findings that identified a shift in officials' incentives after the implementation of environmental regulations.\\n\\nThese differences are significant, as they highlight the need for policymakers to understand the specific environmental issues being impacted by political cycles. While our study found evidence of a political carbon emission cycle, it was not influenced by the same factors as the environmental political business cycle or pollution cycles, and it was impacted by different factors such as politics and local officials' age. As governments implement environmental policies, the nuances of these policies and the specific environmental factors they impact must be taken into account in environmental decision-making. This information can help policymakers design and implement more effective environmental regulations that target the political root causes of carbon emissions reduction rather than merely treating the symptoms. Overall, our study's findings provide a unique perspective on carbon emissions cycles, and we hope that policymakers will consider these findings when implementing environmental policies in China.\""
      ]
     },
     "execution_count": 28,
     "metadata": {},
     "output_type": "execute_result"
    }
   ],
   "source": [
    "llm_chain.run({\"mine\":my_con,\"others\":con_list})"
   ]
  },
  {
   "cell_type": "code",
   "execution_count": null,
   "id": "fc8a8435-8f02-4ae1-bbe1-61a612dc466d",
   "metadata": {},
   "outputs": [],
   "source": []
  }
 ],
 "metadata": {
  "kernelspec": {
   "display_name": "Python 3 (ipykernel)",
   "language": "python",
   "name": "python3"
  },
  "language_info": {
   "codemirror_mode": {
    "name": "ipython",
    "version": 3
   },
   "file_extension": ".py",
   "mimetype": "text/x-python",
   "name": "python",
   "nbconvert_exporter": "python",
   "pygments_lexer": "ipython3",
   "version": "3.9.12"
  }
 },
 "nbformat": 4,
 "nbformat_minor": 5
}
